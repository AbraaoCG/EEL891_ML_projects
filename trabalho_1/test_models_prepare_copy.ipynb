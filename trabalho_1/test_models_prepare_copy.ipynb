{
 "cells": [
  {
   "cell_type": "markdown",
   "metadata": {},
   "source": [
    "## Importação e Pré-Processamento"
   ]
  },
  {
   "cell_type": "code",
   "execution_count": 536,
   "metadata": {},
   "outputs": [],
   "source": [
    "import pandas as pd \n",
    "import numpy as np\n",
    "import matplotlib.pyplot as plt\n",
    "import seaborn as sns\n",
    "from sklearn.preprocessing import LabelEncoder\n",
    "\n",
    "\n",
    "plot = 0\n",
    "\n"
   ]
  },
  {
   "cell_type": "markdown",
   "metadata": {},
   "source": [
    "### Importação"
   ]
  },
  {
   "cell_type": "code",
   "execution_count": 537,
   "metadata": {},
   "outputs": [],
   "source": [
    "# Read the CSV file\n",
    "df_train = pd.read_csv('dados_trabalho1/conjunto_de_treinamento.csv')\n",
    "# Read the test CSV file\n",
    "df_test = pd.read_csv('dados_trabalho1/conjunto_de_teste.csv')\n"
   ]
  },
  {
   "cell_type": "code",
   "execution_count": 538,
   "metadata": {},
   "outputs": [],
   "source": [
    "if (plot):\n",
    "    df_train.describe()"
   ]
  },
  {
   "cell_type": "code",
   "execution_count": 539,
   "metadata": {},
   "outputs": [
    {
     "name": "stdout",
     "output_type": "stream",
     "text": [
      "Empty DataFrame\n",
      "Columns: [id_solicitante, produto_solicitado, dia_vencimento, forma_envio_solicitacao, tipo_endereco, sexo, idade, estado_civil, qtde_dependentes, grau_instrucao, nacionalidade, estado_onde_nasceu, estado_onde_reside, possui_telefone_residencial, codigo_area_telefone_residencial, tipo_residencia, meses_na_residencia, possui_telefone_celular, possui_email, renda_mensal_regular, renda_extra, possui_cartao_visa, possui_cartao_mastercard, possui_cartao_diners, possui_cartao_amex, possui_outros_cartoes, qtde_contas_bancarias, qtde_contas_bancarias_especiais, valor_patrimonio_pessoal, possui_carro, vinculo_formal_com_empresa, estado_onde_trabalha, possui_telefone_trabalho, codigo_area_telefone_trabalho, meses_no_trabalho, profissao, ocupacao, profissao_companheiro, grau_instrucao_companheiro, local_onde_reside, local_onde_trabalha, inadimplente]\n",
      "Index: []\n",
      "\n",
      "[0 rows x 42 columns]\n"
     ]
    }
   ],
   "source": [
    "# Verificar se há linhas duplicadas\n",
    "duplicated_rows = df_train.duplicated()\n",
    "\n",
    "# Eliminar duplicatas\n",
    "df_train = df_train.drop_duplicates()\n",
    "\n",
    "# Exibir as linhas duplicadas\n",
    "print(df_train[duplicated_rows])"
   ]
  },
  {
   "cell_type": "markdown",
   "metadata": {},
   "source": [
    "### Verificação manual de atributos"
   ]
  },
  {
   "cell_type": "markdown",
   "metadata": {},
   "source": [
    "<!-- É interessante verificar manualmente quais colunas não podem influenciar a variável inadimplência, pois não faz sentido ... Isso evita que o modelo perca processamento com colunas que não influenciam a variável alvo. -->\n"
   ]
  },
  {
   "cell_type": "code",
   "execution_count": 540,
   "metadata": {},
   "outputs": [
    {
     "data": {
      "text/plain": [
       "Index(['id_solicitante', 'produto_solicitado', 'dia_vencimento',\n",
       "       'forma_envio_solicitacao', 'tipo_endereco', 'sexo', 'idade',\n",
       "       'estado_civil', 'qtde_dependentes', 'grau_instrucao', 'nacionalidade',\n",
       "       'estado_onde_nasceu', 'estado_onde_reside',\n",
       "       'possui_telefone_residencial', 'codigo_area_telefone_residencial',\n",
       "       'tipo_residencia', 'meses_na_residencia', 'possui_telefone_celular',\n",
       "       'possui_email', 'renda_mensal_regular', 'renda_extra',\n",
       "       'possui_cartao_visa', 'possui_cartao_mastercard',\n",
       "       'possui_cartao_diners', 'possui_cartao_amex', 'possui_outros_cartoes',\n",
       "       'qtde_contas_bancarias', 'qtde_contas_bancarias_especiais',\n",
       "       'valor_patrimonio_pessoal', 'possui_carro',\n",
       "       'vinculo_formal_com_empresa', 'estado_onde_trabalha',\n",
       "       'possui_telefone_trabalho', 'codigo_area_telefone_trabalho',\n",
       "       'meses_no_trabalho', 'profissao', 'ocupacao', 'profissao_companheiro',\n",
       "       'grau_instrucao_companheiro', 'local_onde_reside',\n",
       "       'local_onde_trabalha', 'inadimplente'],\n",
       "      dtype='object')"
      ]
     },
     "execution_count": 540,
     "metadata": {},
     "output_type": "execute_result"
    }
   ],
   "source": [
    "df_train.columns"
   ]
  },
  {
   "cell_type": "code",
   "execution_count": 541,
   "metadata": {},
   "outputs": [],
   "source": [
    "excluded_columns = ['id_solicitante' ]\n",
    "testIDs = df_test['id_solicitante' ]\n",
    "\n",
    "df_train = df_train.drop(excluded_columns, axis=1)\n",
    "df_test = df_test.drop(excluded_columns, axis=1)"
   ]
  },
  {
   "cell_type": "markdown",
   "metadata": {},
   "source": [
    "### Codificação de atributos não numéricos\n"
   ]
  },
  {
   "cell_type": "code",
   "execution_count": 542,
   "metadata": {},
   "outputs": [],
   "source": [
    "\n",
    "# Criar uma cópia dos dataframes originais\n",
    "df_train_encoded = df_train.copy()\n",
    "df_test_encoded = df_test.copy()\n",
    "\n",
    "# Identificar colunas do tipo String\n",
    "string_columns = df_train.select_dtypes(include=['object']).columns\n",
    "\n",
    "# Inicializar o LabelEncoder\n",
    "le = LabelEncoder()\n",
    "\n",
    "# Codificar colunas do tipo String no dataframe de treino\n",
    "for col in string_columns:\n",
    "    df_train_encoded[col] = le.fit_transform(df_train_encoded[col])\n",
    "\n",
    "# Codificar colunas do tipo String no dataframe de teste\n",
    "for col in string_columns:\n",
    "    df_test_encoded[col] = le.fit_transform(df_test_encoded[col])\n",
    "\n"
   ]
  },
  {
   "cell_type": "markdown",
   "metadata": {},
   "source": [
    "### Verificar nulidades nos dados de teste."
   ]
  },
  {
   "cell_type": "code",
   "execution_count": 543,
   "metadata": {},
   "outputs": [
    {
     "name": "stdout",
     "output_type": "stream",
     "text": [
      "tipo_residencia                125\n",
      "meses_na_residencia            362\n",
      "profissao                      762\n",
      "ocupacao                       690\n",
      "profissao_companheiro         2887\n",
      "grau_instrucao_companheiro    3210\n",
      "dtype: int64\n"
     ]
    }
   ],
   "source": [
    "# Verificar quais colunas têm valores nulos\n",
    "null_columns_test = df_test_encoded.isnull().sum()\n",
    "null_columns_test = null_columns_test[null_columns_test > 0]\n",
    "print(null_columns_test)\n"
   ]
  },
  {
   "cell_type": "code",
   "execution_count": 544,
   "metadata": {},
   "outputs": [
    {
     "name": "stdout",
     "output_type": "stream",
     "text": [
      "Series([], dtype: int64)\n"
     ]
    }
   ],
   "source": [
    "if (not null_columns_test.empty):\n",
    "    # Preencher valores nulos com a mediana das colunas\n",
    "    df_test_encoded.fillna(df_test_encoded.median(), inplace=True)\n",
    "\n",
    "# Verificar novamente se há valores nulos\n",
    "null_columns_test_after = df_test_encoded.isnull().sum()\n",
    "null_columns_test_after = null_columns_test_after[null_columns_test_after > 0]\n",
    "print(null_columns_test_after)"
   ]
  },
  {
   "cell_type": "markdown",
   "metadata": {},
   "source": [
    "### Verificação de colunas e linhas com null / NaN"
   ]
  },
  {
   "cell_type": "code",
   "execution_count": 545,
   "metadata": {},
   "outputs": [
    {
     "name": "stdout",
     "output_type": "stream",
     "text": [
      "tipo_residencia                 536\n",
      "meses_na_residencia            1450\n",
      "profissao                      3097\n",
      "ocupacao                       2978\n",
      "profissao_companheiro         11514\n",
      "grau_instrucao_companheiro    12860\n",
      "dtype: int64\n"
     ]
    }
   ],
   "source": [
    "# Verificar quais colunas têm valores nulos\n",
    "null_columns = df_train_encoded.isnull().sum()\n",
    "null_columns = null_columns[null_columns > 0]\n",
    "print(null_columns)\n"
   ]
  },
  {
   "cell_type": "code",
   "execution_count": 546,
   "metadata": {},
   "outputs": [],
   "source": [
    "# Filtrar apenas as colunas não nulas\n",
    "non_null_columns = df_train_encoded.dropna(axis=1).columns\n",
    "\n",
    "# DataFrame sem colunas nulas\n",
    "df_no_null_columns = df_train_encoded.drop(columns=null_columns.index)\n",
    "\n",
    "# Criar um DataFrame sem linhas com valores nulos\n",
    "null_columns_to_drop = ['profissao_companheiro','grau_instrucao_companheiro']\n",
    "df_no_null_rows = df_train_encoded.drop(columns=null_columns_to_drop).dropna()\n",
    "df_test_no_null_rows = df_test_encoded.copy()\n"
   ]
  },
  {
   "cell_type": "code",
   "execution_count": 547,
   "metadata": {},
   "outputs": [],
   "source": [
    "## É preciso lidar com valores nulos nos atributos dos dados de teste --> Usarei a mediana dos valores para preencher.\n",
    "\n",
    "# Verificar quais colunas têm valores nulos\n",
    "null_columns_test = df_test_encoded.isnull().sum()\n",
    "null_columns_test = null_columns_test[null_columns_test > 0]\n",
    "\n",
    "if (not null_columns_test.empty):\n",
    "    # Preencher valores nulos com a mediana das colunas\n",
    "    df_test_no_null_rows.fillna(df_test_encoded.median(), inplace=True)\n"
   ]
  },
  {
   "cell_type": "markdown",
   "metadata": {},
   "source": [
    "### Selecionar dataSet"
   ]
  },
  {
   "cell_type": "code",
   "execution_count": 629,
   "metadata": {},
   "outputs": [],
   "source": [
    "usingData = df_no_null_rows\n",
    "usingTestData = df_test_no_null_rows"
   ]
  },
  {
   "cell_type": "code",
   "execution_count": 630,
   "metadata": {},
   "outputs": [
    {
     "name": "stdout",
     "output_type": "stream",
     "text": [
      "Shape:\n",
      "Treino: (15568, 39)\n",
      "Teste:(5000, 40)\n",
      " É esperado que o treino tenha uma variável a mais (alvo)\n"
     ]
    }
   ],
   "source": [
    "print(f'Shape:\\nTreino: {usingData.shape}\\nTeste:{usingTestData.shape}\\n É esperado que o treino tenha uma variável a mais (alvo)')"
   ]
  },
  {
   "cell_type": "markdown",
   "metadata": {},
   "source": [
    "### Discretizar valores float.\n"
   ]
  },
  {
   "cell_type": "code",
   "execution_count": 631,
   "metadata": {},
   "outputs": [],
   "source": [
    "for colname in usingData.select_dtypes(\"float\"):\n",
    "    usingData[colname] = usingData[colname].astype(int)\n"
   ]
  },
  {
   "cell_type": "code",
   "execution_count": 632,
   "metadata": {},
   "outputs": [
    {
     "data": {
      "text/plain": [
       "False"
      ]
     },
     "execution_count": 632,
     "metadata": {},
     "output_type": "execute_result"
    }
   ],
   "source": [
    "discrete_features = usingData.dtypes == int\n",
    "False in discrete_features\n",
    "\n",
    "# Retorna False --> Todos os atributos sao discretos."
   ]
  },
  {
   "cell_type": "markdown",
   "metadata": {},
   "source": [
    "### MI Scores"
   ]
  },
  {
   "cell_type": "code",
   "execution_count": 552,
   "metadata": {},
   "outputs": [],
   "source": [
    "# from sklearn.feature_selection import mutual_info_regression\n",
    "\n",
    "# X = usingData.drop('inadimplente', axis = 1)\n",
    "# y = usingData['inadimplente']\n",
    "\n",
    "# def make_mi_scores(X, y, discrete_features):\n",
    "#     mi_scores = mutual_info_regression(X, y, discrete_features=discrete_features)\n",
    "#     mi_scores = pd.Series(mi_scores, name=\"MI Scores\", index=X.columns)\n",
    "#     mi_scores = mi_scores.sort_values(ascending=False)\n",
    "#     return mi_scores\n",
    "\n",
    "# mi_scores = make_mi_scores(usingData, y, discrete_features)\n",
    "# mi_scores\n"
   ]
  },
  {
   "cell_type": "code",
   "execution_count": 553,
   "metadata": {},
   "outputs": [],
   "source": [
    "# def plot_mi_scores(scores):\n",
    "#     scores = scores.sort_values(ascending=True)\n",
    "#     width = np.arange(len(scores))\n",
    "#     ticks = list(scores.index)\n",
    "#     plt.barh(width, scores)\n",
    "#     plt.yticks(width, ticks)\n",
    "#     plt.title(\"Mutual Information Scores\")\n",
    "\n",
    "\n",
    "# plt.figure(dpi=100, figsize=(10, 15))\n",
    "# plot_mi_scores(mi_scores)\n"
   ]
  },
  {
   "cell_type": "markdown",
   "metadata": {},
   "source": [
    "### Tratar Outliers"
   ]
  },
  {
   "cell_type": "code",
   "execution_count": 633,
   "metadata": {},
   "outputs": [],
   "source": [
    "# A patir do plot de densidade, é possível observar que os atributos 'meses_na_residencia', 'meses_no_trabalho', 'qtde_dependentes', 'renda_mensal_regular', 'valor_patrimonio_pessoal' parecem ter outliers"
   ]
  },
  {
   "cell_type": "markdown",
   "metadata": {},
   "source": [
    "#### Visualização Inicial"
   ]
  },
  {
   "cell_type": "code",
   "execution_count": 634,
   "metadata": {},
   "outputs": [
    {
     "data": {
      "text/plain": [
       "renda_extra\n",
       "0       14663\n",
       "350       124\n",
       "600        54\n",
       "200        49\n",
       "400        46\n",
       "        ...  \n",
       "594         1\n",
       "815         1\n",
       "3           1\n",
       "1192        1\n",
       "848         1\n",
       "Name: count, Length: 252, dtype: int64"
      ]
     },
     "execution_count": 634,
     "metadata": {},
     "output_type": "execute_result"
    }
   ],
   "source": [
    "usingData['renda_extra'].value_counts()"
   ]
  },
  {
   "cell_type": "code",
   "execution_count": 635,
   "metadata": {},
   "outputs": [],
   "source": [
    "if(plot):\n",
    "    sns.displot(usingData, x='renda_extra', hue='inadimplente', kind='kde', fill=True)\n",
    "    plt.title('Distribuição de renda_extra em Função da Adimplência')\n",
    "    plt.xlabel('renda_extra')\n",
    "    plt.ylabel('Densidade')\n",
    "    plt.show()"
   ]
  },
  {
   "cell_type": "code",
   "execution_count": 636,
   "metadata": {},
   "outputs": [
    {
     "data": {
      "text/plain": [
       "meses_na_residencia\n",
       "1      2531\n",
       "0      1733\n",
       "10     1252\n",
       "5      1177\n",
       "2      1051\n",
       "       ... \n",
       "100       1\n",
       "71        1\n",
       "67        1\n",
       "81        1\n",
       "54        1\n",
       "Name: count, Length: 75, dtype: int64"
      ]
     },
     "execution_count": 636,
     "metadata": {},
     "output_type": "execute_result"
    }
   ],
   "source": [
    "usingData['meses_na_residencia'].value_counts()"
   ]
  },
  {
   "cell_type": "code",
   "execution_count": 637,
   "metadata": {},
   "outputs": [],
   "source": [
    "if(plot):\n",
    "    sns.displot(usingData, x='meses_na_residencia', hue='inadimplente', kind='kde', fill=True)\n",
    "    plt.title('Distribuição de meses_na_residencia em Função da Adimplência')\n",
    "    plt.xlabel('meses_na_residencia')\n",
    "    plt.ylabel('Densidade')\n",
    "    plt.show()"
   ]
  },
  {
   "cell_type": "code",
   "execution_count": 638,
   "metadata": {},
   "outputs": [
    {
     "data": {
      "text/plain": [
       "meses_no_trabalho\n",
       "0     15547\n",
       "1         5\n",
       "2         4\n",
       "3         3\n",
       "4         2\n",
       "6         2\n",
       "14        1\n",
       "5         1\n",
       "32        1\n",
       "15        1\n",
       "30        1\n",
       "Name: count, dtype: int64"
      ]
     },
     "execution_count": 638,
     "metadata": {},
     "output_type": "execute_result"
    }
   ],
   "source": [
    "usingData['meses_no_trabalho'].value_counts()\n",
    "# A contagem de pessoas / mes no trabalho demonstra que é uma informação\n"
   ]
  },
  {
   "cell_type": "code",
   "execution_count": 639,
   "metadata": {},
   "outputs": [],
   "source": [
    "if(plot):\n",
    "\n",
    "    sns.displot(usingData, x='meses_no_trabalho', hue='inadimplente', kind='kde', fill=True)\n",
    "    plt.title('Distribuição de meses_no_trabalho em Função da Adimplência')\n",
    "    plt.xlabel('meses_no_trabalho')\n",
    "    plt.ylabel('Densidade')\n",
    "    plt.show()"
   ]
  },
  {
   "cell_type": "code",
   "execution_count": 640,
   "metadata": {},
   "outputs": [
    {
     "data": {
      "text/plain": [
       "qtde_dependentes\n",
       "0     10097\n",
       "1      2313\n",
       "2      1802\n",
       "3       861\n",
       "4       285\n",
       "5       121\n",
       "6        42\n",
       "7        16\n",
       "8        10\n",
       "9         7\n",
       "10        6\n",
       "11        4\n",
       "13        2\n",
       "53        1\n",
       "14        1\n",
       "Name: count, dtype: int64"
      ]
     },
     "execution_count": 640,
     "metadata": {},
     "output_type": "execute_result"
    }
   ],
   "source": [
    "usingData['qtde_dependentes'].value_counts()"
   ]
  },
  {
   "cell_type": "code",
   "execution_count": 641,
   "metadata": {},
   "outputs": [],
   "source": [
    "if(plot):\n",
    "\n",
    "    sns.displot(usingData, x='qtde_dependentes', hue='inadimplente', kind='kde', fill=True)\n",
    "    plt.title('Distribuição de qtde_dependentes em Função da Adimplência')\n",
    "    plt.xlabel('qtde_dependentes')\n",
    "    plt.ylabel('Densidade')\n",
    "    plt.show()"
   ]
  },
  {
   "cell_type": "code",
   "execution_count": 642,
   "metadata": {},
   "outputs": [
    {
     "data": {
      "text/plain": [
       "renda_mensal_regular\n",
       "350     2186\n",
       "500      461\n",
       "400      428\n",
       "380      384\n",
       "600      382\n",
       "        ... \n",
       "1258       1\n",
       "1552       1\n",
       "1331       1\n",
       "3034       1\n",
       "2760       1\n",
       "Name: count, Length: 1862, dtype: int64"
      ]
     },
     "execution_count": 642,
     "metadata": {},
     "output_type": "execute_result"
    }
   ],
   "source": [
    "usingData['renda_mensal_regular'].value_counts()"
   ]
  },
  {
   "cell_type": "code",
   "execution_count": 643,
   "metadata": {},
   "outputs": [],
   "source": [
    "if(plot):\n",
    "\n",
    "    sns.displot(usingData, x='renda_mensal_regular', hue='inadimplente', kind='kde', fill=True)\n",
    "    plt.title('Distribuição de renda_mensal_regular em Função da Adimplência')\n",
    "    plt.xlabel('renda_mensal_regular')\n",
    "    plt.ylabel('Densidade')\n",
    "    plt.show()"
   ]
  },
  {
   "cell_type": "code",
   "execution_count": 644,
   "metadata": {},
   "outputs": [
    {
     "data": {
      "text/plain": [
       "valor_patrimonio_pessoal\n",
       "0        14809\n",
       "30000       75\n",
       "20000       73\n",
       "25000       64\n",
       "50000       62\n",
       "         ...  \n",
       "7500         1\n",
       "72000        1\n",
       "5600         1\n",
       "3500         1\n",
       "110          1\n",
       "Name: count, Length: 85, dtype: int64"
      ]
     },
     "execution_count": 644,
     "metadata": {},
     "output_type": "execute_result"
    }
   ],
   "source": [
    "usingData['valor_patrimonio_pessoal'].value_counts()"
   ]
  },
  {
   "cell_type": "code",
   "execution_count": 645,
   "metadata": {},
   "outputs": [],
   "source": [
    "if(plot):\n",
    "\n",
    "    sns.displot(usingData, x='valor_patrimonio_pessoal', hue='inadimplente', kind='kde', fill=True)\n",
    "    plt.title('Distribuição de valor_patrimonio_pessoal em Função da Adimplência')\n",
    "    plt.xlabel('valor_patrimonio_pessoal')\n",
    "    plt.ylabel('Densidade')\n",
    "    plt.show()"
   ]
  },
  {
   "cell_type": "markdown",
   "metadata": {},
   "source": [
    "#### Filtragem por quantil"
   ]
  },
  {
   "cell_type": "code",
   "execution_count": 646,
   "metadata": {
    "vscode": {
     "languageId": "powershell"
    }
   },
   "outputs": [],
   "source": [
    "# Calcular o IQR para as colunas especificadas\n",
    "columns_to_check = ['meses_na_residencia', 'meses_no_trabalho', 'qtde_dependentes', 'renda_mensal_regular', 'valor_patrimonio_pessoal', 'renda_extra']\n",
    "Q1 = usingData[columns_to_check].quantile(0.0)\n",
    "Q3 = usingData[columns_to_check].quantile(0.95)\n",
    "IQR = Q3 - Q1\n",
    "\n"
   ]
  },
  {
   "cell_type": "code",
   "execution_count": 647,
   "metadata": {
    "vscode": {
     "languageId": "powershell"
    }
   },
   "outputs": [
    {
     "data": {
      "text/plain": [
       "meses_na_residencia           30.0\n",
       "meses_no_trabalho              0.0\n",
       "qtde_dependentes               3.0\n",
       "renda_mensal_regular        1731.0\n",
       "valor_patrimonio_pessoal       0.0\n",
       "renda_extra                  200.0\n",
       "dtype: float64"
      ]
     },
     "execution_count": 647,
     "metadata": {},
     "output_type": "execute_result"
    }
   ],
   "source": [
    "IQR"
   ]
  },
  {
   "cell_type": "code",
   "execution_count": 648,
   "metadata": {
    "vscode": {
     "languageId": "powershell"
    }
   },
   "outputs": [],
   "source": [
    "# Filtrar os outliers (apenas para valores mais altos)\n",
    "usingData2_no_outlier = usingData[~((usingData[columns_to_check] > (Q3 + 1.5 * IQR)).any(axis=1))]\n",
    "\n"
   ]
  },
  {
   "cell_type": "markdown",
   "metadata": {},
   "source": [
    "#### Visualização final"
   ]
  },
  {
   "cell_type": "code",
   "execution_count": 649,
   "metadata": {},
   "outputs": [
    {
     "data": {
      "text/plain": [
       "renda_extra\n",
       "0      13882\n",
       "350      103\n",
       "400       41\n",
       "200       40\n",
       "500       39\n",
       "       ...  \n",
       "75         1\n",
       "397        1\n",
       "295        1\n",
       "405        1\n",
       "3          1\n",
       "Name: count, Length: 115, dtype: int64"
      ]
     },
     "execution_count": 649,
     "metadata": {},
     "output_type": "execute_result"
    }
   ],
   "source": [
    "usingData2_no_outlier['renda_extra'].value_counts()"
   ]
  },
  {
   "cell_type": "code",
   "execution_count": 650,
   "metadata": {},
   "outputs": [],
   "source": [
    "if(plot):\n",
    "\n",
    "    sns.displot(usingData2_no_outlier, x='renda_extra', hue='inadimplente', kind='kde', fill=True)\n",
    "    plt.title('Distribuição de renda_extra em Função da Adimplência')\n",
    "    plt.xlabel('renda_extra')\n",
    "    plt.ylabel('Densidade')\n",
    "    plt.show()"
   ]
  },
  {
   "cell_type": "code",
   "execution_count": 651,
   "metadata": {},
   "outputs": [
    {
     "data": {
      "text/plain": [
       "meses_na_residencia\n",
       "1     2452\n",
       "0     1667\n",
       "10    1137\n",
       "5     1081\n",
       "2      966\n",
       "      ... \n",
       "72       1\n",
       "68       1\n",
       "61       1\n",
       "71       1\n",
       "54       1\n",
       "Name: count, Length: 65, dtype: int64"
      ]
     },
     "execution_count": 651,
     "metadata": {},
     "output_type": "execute_result"
    }
   ],
   "source": [
    "usingData2_no_outlier['meses_na_residencia'].value_counts()"
   ]
  },
  {
   "cell_type": "code",
   "execution_count": 652,
   "metadata": {},
   "outputs": [],
   "source": [
    "if(plot):\n",
    "\n",
    "    sns.displot(usingData2_no_outlier, x='meses_na_residencia', hue='inadimplente', kind='kde', fill=True)\n",
    "    plt.title('Distribuição de meses_na_residencia em Função da Adimplência')\n",
    "    plt.xlabel('meses_na_residencia')\n",
    "    plt.ylabel('Densidade')\n",
    "    plt.show()"
   ]
  },
  {
   "cell_type": "code",
   "execution_count": 653,
   "metadata": {},
   "outputs": [
    {
     "data": {
      "text/plain": [
       "meses_no_trabalho\n",
       "0    14379\n",
       "Name: count, dtype: int64"
      ]
     },
     "execution_count": 653,
     "metadata": {},
     "output_type": "execute_result"
    }
   ],
   "source": [
    "usingData2_no_outlier['meses_no_trabalho'].value_counts()\n",
    "# A contagem de pessoas / mes no trabalho demonstra que é uma informação\n"
   ]
  },
  {
   "cell_type": "code",
   "execution_count": 654,
   "metadata": {},
   "outputs": [],
   "source": [
    "if(plot):\n",
    "\n",
    "    sns.displot(usingData2_no_outlier, x='meses_no_trabalho', hue='inadimplente', kind='kde', fill=True)\n",
    "    plt.title('Distribuição de meses_no_trabalho em Função da Adimplência')\n",
    "    plt.xlabel('meses_no_trabalho')\n",
    "    plt.ylabel('Densidade')\n",
    "    plt.show()"
   ]
  },
  {
   "cell_type": "code",
   "execution_count": 655,
   "metadata": {},
   "outputs": [
    {
     "data": {
      "text/plain": [
       "qtde_dependentes\n",
       "0    9421\n",
       "1    2086\n",
       "2    1657\n",
       "3     782\n",
       "4     266\n",
       "5     112\n",
       "6      40\n",
       "7      15\n",
       "Name: count, dtype: int64"
      ]
     },
     "execution_count": 655,
     "metadata": {},
     "output_type": "execute_result"
    }
   ],
   "source": [
    "usingData2_no_outlier['qtde_dependentes'].value_counts()"
   ]
  },
  {
   "cell_type": "code",
   "execution_count": 656,
   "metadata": {},
   "outputs": [],
   "source": [
    "if(plot):\n",
    "\n",
    "    sns.displot(usingData2_no_outlier, x='qtde_dependentes', hue='inadimplente', kind='kde', fill=True)\n",
    "    plt.title('Distribuição de qtde_dependentes em Função da Adimplência')\n",
    "    plt.xlabel('qtde_dependentes')\n",
    "    plt.ylabel('Densidade')\n",
    "    plt.show()"
   ]
  },
  {
   "cell_type": "code",
   "execution_count": 657,
   "metadata": {},
   "outputs": [
    {
     "data": {
      "text/plain": [
       "renda_mensal_regular\n",
       "350     2055\n",
       "500      430\n",
       "400      404\n",
       "380      360\n",
       "600      345\n",
       "        ... \n",
       "2990       1\n",
       "170        1\n",
       "2119       1\n",
       "1387       1\n",
       "2810       1\n",
       "Name: count, Length: 1716, dtype: int64"
      ]
     },
     "execution_count": 657,
     "metadata": {},
     "output_type": "execute_result"
    }
   ],
   "source": [
    "usingData2_no_outlier['renda_mensal_regular'].value_counts()"
   ]
  },
  {
   "cell_type": "code",
   "execution_count": 658,
   "metadata": {},
   "outputs": [],
   "source": [
    "if(plot):\n",
    "\n",
    "    sns.displot(usingData2_no_outlier, x='renda_mensal_regular', hue='inadimplente', kind='kde', fill=True)\n",
    "    plt.title('Distribuição de renda_mensal_regular em Função da Adimplência')\n",
    "    plt.xlabel('renda_mensal_regular')\n",
    "    plt.ylabel('Densidade')\n",
    "    plt.show()"
   ]
  },
  {
   "cell_type": "code",
   "execution_count": 659,
   "metadata": {},
   "outputs": [
    {
     "data": {
      "text/plain": [
       "valor_patrimonio_pessoal\n",
       "0    14379\n",
       "Name: count, dtype: int64"
      ]
     },
     "execution_count": 659,
     "metadata": {},
     "output_type": "execute_result"
    }
   ],
   "source": [
    "usingData2_no_outlier['valor_patrimonio_pessoal'].value_counts()"
   ]
  },
  {
   "cell_type": "code",
   "execution_count": 660,
   "metadata": {},
   "outputs": [],
   "source": [
    "if(plot):\n",
    "\n",
    "    sns.displot(usingData2_no_outlier, x='valor_patrimonio_pessoal', hue='inadimplente', kind='kde', fill=True)\n",
    "    plt.title('Distribuição de valor_patrimonio_pessoal em Função da Adimplência')\n",
    "    plt.xlabel('valor_patrimonio_pessoal')\n",
    "    plt.ylabel('Densidade')\n",
    "    plt.show()"
   ]
  },
  {
   "cell_type": "markdown",
   "metadata": {},
   "source": [
    "#### Cortar colunas com valores unicos"
   ]
  },
  {
   "cell_type": "code",
   "execution_count": 661,
   "metadata": {},
   "outputs": [],
   "source": [
    "# Colunas meses_no_trabalho e valor_patrimonio_pessoal ficaram com valores únicos, o que é inutil para o modelo.\n",
    "excluded_columns2 = ['meses_no_trabalho' , 'valor_patrimonio_pessoal']\n",
    "usingData2_no_outlier = usingData2_no_outlier.drop(excluded_columns2, axis=1)"
   ]
  },
  {
   "cell_type": "markdown",
   "metadata": {},
   "source": [
    "#### Usar dataSet recortado?"
   ]
  },
  {
   "cell_type": "code",
   "execution_count": 662,
   "metadata": {},
   "outputs": [],
   "source": [
    "if (1):\n",
    "    usingData2 = usingData2_no_outlier.copy()"
   ]
  },
  {
   "cell_type": "markdown",
   "metadata": {},
   "source": [
    "### Estratégia para popular?"
   ]
  },
  {
   "cell_type": "code",
   "execution_count": 663,
   "metadata": {},
   "outputs": [],
   "source": [
    "from imblearn.over_sampling import RandomOverSampler\n",
    "from imblearn.under_sampling import RandomUnderSampler\n",
    "\n",
    "# Função para ajustar a proporção de adimplentes e inadimplentes\n",
    "def adjust_proportion(df, target_column, group_columns, factor):\n",
    "    adjusted_df = pd.DataFrame()\n",
    "    \n",
    "    for group_column in group_columns:\n",
    "        for value in df[group_column].unique():\n",
    "            subset = df[df[group_column] == value]\n",
    "            target_counts = subset[target_column].value_counts()\n",
    "            \n",
    "            if len(target_counts) == 2:\n",
    "                majority_class = target_counts.idxmax()\n",
    "                minority_class = target_counts.idxmin()\n",
    "\n",
    "                majority_count = target_counts[majority_class]\n",
    "                minority_count = target_counts[minority_class]\n",
    "\n",
    "                new_minority_count = minority_count // factor\n",
    "                new_majority_count = int(majority_count * factor) # int(majority_count + (minority_count - new_minority_count))\n",
    "                                \n",
    "                oversample = RandomOverSampler(sampling_strategy={majority_class: new_majority_count})\n",
    "                undersample = RandomUnderSampler(sampling_strategy={minority_class: new_minority_count})\n",
    "\n",
    "                X = subset.drop(columns=[target_column])\n",
    "                y = subset[target_column]\n",
    "                X_resampled, y_resampled = oversample.fit_resample(X, y)\n",
    "                X_resampled, y_resampled = undersample.fit_resample(X_resampled, y_resampled)\n",
    "                resampled_subset = pd.concat([X_resampled, y_resampled], axis=1)\n",
    "                adjusted_df = pd.concat([adjusted_df, resampled_subset])\n",
    "        if(group_column == 'possui_telefone_residencial'):\n",
    "            print(adjusted_df.columns)\n",
    "        print(adjusted_df.shape)\n",
    "    \n",
    "    return adjusted_df\n",
    "\n"
   ]
  },
  {
   "cell_type": "code",
   "execution_count": 664,
   "metadata": {},
   "outputs": [
    {
     "name": "stdout",
     "output_type": "stream",
     "text": [
      "(17926, 37)\n",
      "Index(['produto_solicitado', 'dia_vencimento', 'forma_envio_solicitacao',\n",
      "       'tipo_endereco', 'sexo', 'idade', 'estado_civil', 'qtde_dependentes',\n",
      "       'grau_instrucao', 'nacionalidade', 'estado_onde_nasceu',\n",
      "       'estado_onde_reside', 'possui_telefone_residencial',\n",
      "       'codigo_area_telefone_residencial', 'tipo_residencia',\n",
      "       'meses_na_residencia', 'possui_telefone_celular', 'possui_email',\n",
      "       'renda_mensal_regular', 'renda_extra', 'possui_cartao_visa',\n",
      "       'possui_cartao_mastercard', 'possui_cartao_diners',\n",
      "       'possui_cartao_amex', 'possui_outros_cartoes', 'qtde_contas_bancarias',\n",
      "       'qtde_contas_bancarias_especiais', 'possui_carro',\n",
      "       'vinculo_formal_com_empresa', 'estado_onde_trabalha',\n",
      "       'possui_telefone_trabalho', 'codigo_area_telefone_trabalho',\n",
      "       'profissao', 'ocupacao', 'local_onde_reside', 'local_onde_trabalha',\n",
      "       'inadimplente'],\n",
      "      dtype='object')\n",
      "(36482, 37)\n",
      "(55165, 37)\n",
      "(74035, 37)\n",
      "(93086, 37)\n",
      "(111749, 37)\n"
     ]
    }
   ],
   "source": [
    "# Ajustar a proporção de adimplentes e inadimplentes para colunas especificadas\n",
    "columns_to_adjust = ['renda_extra', 'possui_telefone_residencial', 'estado_civil', 'dia_vencimento', 'codigo_area_telefone_residencial', 'ocupacao']\n",
    "factor = 2\n",
    "usingData2_adjusted = adjust_proportion(usingData2, 'inadimplente', columns_to_adjust, factor)\n",
    "\n"
   ]
  },
  {
   "cell_type": "code",
   "execution_count": 665,
   "metadata": {},
   "outputs": [],
   "source": [
    "analise_column = 'possui_telefone_residencial'"
   ]
  },
  {
   "cell_type": "code",
   "execution_count": 666,
   "metadata": {},
   "outputs": [],
   "source": [
    "# # Verificar a proporção antiga e nova\n",
    "# print(usingData2[analise_column].value_counts() , usingData2_adjusted[analise_column].value_counts())"
   ]
  },
  {
   "cell_type": "code",
   "execution_count": 667,
   "metadata": {},
   "outputs": [],
   "source": [
    "if(plot):\n",
    "\n",
    "    fig, axes = plt.subplots(1, 2, figsize=(15, 6))\n",
    "\n",
    "    sns.kdeplot(data=usingData2, x=analise_column, hue='inadimplente', fill=True, ax=axes[0])\n",
    "    axes[0].set_title(f'Distribuição de densidade - {analise_column} em Função da Adimplência . Antes do ajuste')\n",
    "    axes[0].set_xlabel(f'{analise_column}')\n",
    "    axes[0].set_ylabel('Densidade')\n",
    "\n",
    "    sns.kdeplot(data=usingData2_adjusted, x=analise_column, hue='inadimplente', fill=True, ax=axes[1])\n",
    "    axes[1].set_title(f'Distribuição de densidade {analise_column} em Função da Adimplência . Depois do ajuste')\n",
    "    axes[1].set_xlabel(f'{analise_column}')\n",
    "    axes[1].set_ylabel('Densidade')\n",
    "\n",
    "    plt.tight_layout()\n",
    "    plt.show()"
   ]
  },
  {
   "cell_type": "code",
   "execution_count": 668,
   "metadata": {},
   "outputs": [],
   "source": [
    "usingDataOld = usingData.copy()\n",
    "usingDataOld_support = usingDataOld.copy()\n",
    "\n",
    "\n",
    "usingData = usingData2_adjusted.copy()\n",
    "# usingData = usingData2.copy()"
   ]
  },
  {
   "cell_type": "markdown",
   "metadata": {},
   "source": [
    "### Dividindo e Normalizando"
   ]
  },
  {
   "cell_type": "code",
   "execution_count": 669,
   "metadata": {},
   "outputs": [
    {
     "data": {
      "text/plain": [
       "((15568, 39), (111749, 37))"
      ]
     },
     "execution_count": 669,
     "metadata": {},
     "output_type": "execute_result"
    }
   ],
   "source": [
    "usingDataOld_support.shape, usingData.shape"
   ]
  },
  {
   "cell_type": "code",
   "execution_count": 670,
   "metadata": {},
   "outputs": [],
   "source": [
    "from sklearn.model_selection import train_test_split\n",
    "\n",
    "xOld = usingDataOld_support.drop('inadimplente', axis = 1)\n",
    "yOld = usingDataOld_support['inadimplente']\n",
    "X_train_old, X_test_old, y_train_old, y_test_old = train_test_split(xOld, yOld, test_size=0.3, random_state=42)\n",
    "\n",
    "X = usingData.drop('inadimplente', axis = 1)\n",
    "y = usingData['inadimplente']\n",
    "X_train, X_test_dontuse, y_train, y_test_dontuse = train_test_split(X, y, test_size=0.3, random_state=42)\n",
    "\n",
    "# Remove entries in X_test_dontuse and y_test_dontuse from X_train and y_train\n",
    "X_train = X_train.loc[~X_train.index.isin(X_test_old.index)]\n",
    "y_train = y_train.loc[~y_train.index.isin(X_test_old.index)]"
   ]
  },
  {
   "cell_type": "code",
   "execution_count": 671,
   "metadata": {},
   "outputs": [
    {
     "data": {
      "text/plain": [
       "((59932, 36), (4671, 38), (59932,), (4671,))"
      ]
     },
     "execution_count": 671,
     "metadata": {},
     "output_type": "execute_result"
    }
   ],
   "source": [
    "X_train.shape, X_test_old.shape, y_train.shape, y_test_old.shape"
   ]
  },
  {
   "cell_type": "markdown",
   "metadata": {},
   "source": [
    "## Treino e predicao usando:"
   ]
  },
  {
   "cell_type": "markdown",
   "metadata": {},
   "source": [
    "#### Using SMOTE with XGBoost Classifier"
   ]
  },
  {
   "cell_type": "code",
   "execution_count": 119,
   "metadata": {},
   "outputs": [],
   "source": [
    "from sklearn.model_selection import GridSearchCV\n",
    "from xgboost import XGBClassifier\n",
    "from imblearn.over_sampling import SMOTE\n"
   ]
  },
  {
   "cell_type": "code",
   "execution_count": 120,
   "metadata": {},
   "outputs": [
    {
     "data": {
      "text/plain": [
       "((12454, 36), (3114, 36), (12454,), (3114,))"
      ]
     },
     "execution_count": 120,
     "metadata": {},
     "output_type": "execute_result"
    }
   ],
   "source": [
    "X_train_old.shape, X_test_old.shape, y_train_old.shape, y_test_old.shape"
   ]
  },
  {
   "cell_type": "code",
   "execution_count": 121,
   "metadata": {},
   "outputs": [
    {
     "name": "stdout",
     "output_type": "stream",
     "text": [
      "Normalized input data(X):\n",
      " [[-0.28045994 -0.45084987  0.9803593  ...  1.62252052  0.88493984\n",
      "   0.88493984]\n",
      " [-0.28045994  0.29174182 -2.4319925  ... -0.34039149 -0.01868156\n",
      "  -0.01868156]\n",
      " [-0.28045994  1.77692521  0.9803593  ...  0.96821651  0.91178008\n",
      "   0.91178008]\n",
      " ...\n",
      " [-0.28045994 -0.45084987 -0.7258166  ... -0.99469549 -0.09472891\n",
      "  -0.09472891]\n",
      " [-0.28045994  0.29174182  0.9803593  ...  1.62252052 -0.60469346\n",
      "  -0.60469346]\n",
      " [-0.28045994  0.29174182 -0.7258166  ...  0.96821651  0.44207589\n",
      "   0.44207589]]\n"
     ]
    }
   ],
   "source": [
    "from sklearn.preprocessing import StandardScaler\n",
    "\n",
    "\n",
    "scaler = StandardScaler()\n",
    "\n",
    "\n",
    "X_train_scaled= scaler.fit_transform(X_train_old)\n",
    "X_test_scaled = scaler.transform(X_test_old)\n",
    "print(\"Normalized input data(X):\\n\", X_train_scaled)"
   ]
  },
  {
   "cell_type": "code",
   "execution_count": 122,
   "metadata": {},
   "outputs": [],
   "source": [
    "X_blc, y_blc = SMOTE().fit_resample(X_train_scaled, y_train_old) # ---> Cancela esse resample\n",
    "\n"
   ]
  },
  {
   "cell_type": "code",
   "execution_count": 123,
   "metadata": {},
   "outputs": [],
   "source": [
    "## Busca por parametros\n",
    "\n",
    "# # Define the hyperparameter grid for grid search\n",
    "# param_grid = {\n",
    "#     'n_estimators': [100, 200, 300, 800,850],    \n",
    "#     'learning_rate': [0.01, 0.001, 0.1, 0.2],   \n",
    "#     'max_depth': [3, 4, 5,6],              \n",
    "# }\n",
    "\n",
    "\n",
    "# grid_search = GridSearchCV(estimator=xgb, param_grid=param_grid, scoring='roc_auc', cv=10, n_jobs=-1)\n",
    "\n",
    "# grid_search.fit(X_blc, y_blc) # Demorou 2 min e 22s\n",
    "\n"
   ]
  },
  {
   "cell_type": "code",
   "execution_count": 124,
   "metadata": {},
   "outputs": [],
   "source": [
    "bestXgbModel = XGBClassifier(base_score=None, booster=None, callbacks=None,\n",
    "              colsample_bylevel=None, colsample_bynode=None,\n",
    "              colsample_bytree=None, device=None, early_stopping_rounds=None,\n",
    "              enable_categorical=False, eval_metric=None, feature_types=None,\n",
    "              gamma=None, grow_policy=None, importance_type=None,\n",
    "              interaction_constraints=None, learning_rate=0.01, max_bin=None,\n",
    "              max_cat_threshold=None, max_cat_to_onehot=None,\n",
    "              max_delta_step=None, max_depth=4, max_leaves=None,\n",
    "              min_child_weight=None, monotone_constraints=None,\n",
    "              multi_strategy=None, n_estimators=850, n_jobs=None,\n",
    "              num_parallel_tree=None, random_state=None)\n"
   ]
  },
  {
   "cell_type": "code",
   "execution_count": 125,
   "metadata": {},
   "outputs": [
    {
     "data": {
      "text/html": [
       "<style>#sk-container-id-6 {\n",
       "  /* Definition of color scheme common for light and dark mode */\n",
       "  --sklearn-color-text: black;\n",
       "  --sklearn-color-line: gray;\n",
       "  /* Definition of color scheme for unfitted estimators */\n",
       "  --sklearn-color-unfitted-level-0: #fff5e6;\n",
       "  --sklearn-color-unfitted-level-1: #f6e4d2;\n",
       "  --sklearn-color-unfitted-level-2: #ffe0b3;\n",
       "  --sklearn-color-unfitted-level-3: chocolate;\n",
       "  /* Definition of color scheme for fitted estimators */\n",
       "  --sklearn-color-fitted-level-0: #f0f8ff;\n",
       "  --sklearn-color-fitted-level-1: #d4ebff;\n",
       "  --sklearn-color-fitted-level-2: #b3dbfd;\n",
       "  --sklearn-color-fitted-level-3: cornflowerblue;\n",
       "\n",
       "  /* Specific color for light theme */\n",
       "  --sklearn-color-text-on-default-background: var(--sg-text-color, var(--theme-code-foreground, var(--jp-content-font-color1, black)));\n",
       "  --sklearn-color-background: var(--sg-background-color, var(--theme-background, var(--jp-layout-color0, white)));\n",
       "  --sklearn-color-border-box: var(--sg-text-color, var(--theme-code-foreground, var(--jp-content-font-color1, black)));\n",
       "  --sklearn-color-icon: #696969;\n",
       "\n",
       "  @media (prefers-color-scheme: dark) {\n",
       "    /* Redefinition of color scheme for dark theme */\n",
       "    --sklearn-color-text-on-default-background: var(--sg-text-color, var(--theme-code-foreground, var(--jp-content-font-color1, white)));\n",
       "    --sklearn-color-background: var(--sg-background-color, var(--theme-background, var(--jp-layout-color0, #111)));\n",
       "    --sklearn-color-border-box: var(--sg-text-color, var(--theme-code-foreground, var(--jp-content-font-color1, white)));\n",
       "    --sklearn-color-icon: #878787;\n",
       "  }\n",
       "}\n",
       "\n",
       "#sk-container-id-6 {\n",
       "  color: var(--sklearn-color-text);\n",
       "}\n",
       "\n",
       "#sk-container-id-6 pre {\n",
       "  padding: 0;\n",
       "}\n",
       "\n",
       "#sk-container-id-6 input.sk-hidden--visually {\n",
       "  border: 0;\n",
       "  clip: rect(1px 1px 1px 1px);\n",
       "  clip: rect(1px, 1px, 1px, 1px);\n",
       "  height: 1px;\n",
       "  margin: -1px;\n",
       "  overflow: hidden;\n",
       "  padding: 0;\n",
       "  position: absolute;\n",
       "  width: 1px;\n",
       "}\n",
       "\n",
       "#sk-container-id-6 div.sk-dashed-wrapped {\n",
       "  border: 1px dashed var(--sklearn-color-line);\n",
       "  margin: 0 0.4em 0.5em 0.4em;\n",
       "  box-sizing: border-box;\n",
       "  padding-bottom: 0.4em;\n",
       "  background-color: var(--sklearn-color-background);\n",
       "}\n",
       "\n",
       "#sk-container-id-6 div.sk-container {\n",
       "  /* jupyter's `normalize.less` sets `[hidden] { display: none; }`\n",
       "     but bootstrap.min.css set `[hidden] { display: none !important; }`\n",
       "     so we also need the `!important` here to be able to override the\n",
       "     default hidden behavior on the sphinx rendered scikit-learn.org.\n",
       "     See: https://github.com/scikit-learn/scikit-learn/issues/21755 */\n",
       "  display: inline-block !important;\n",
       "  position: relative;\n",
       "}\n",
       "\n",
       "#sk-container-id-6 div.sk-text-repr-fallback {\n",
       "  display: none;\n",
       "}\n",
       "\n",
       "div.sk-parallel-item,\n",
       "div.sk-serial,\n",
       "div.sk-item {\n",
       "  /* draw centered vertical line to link estimators */\n",
       "  background-image: linear-gradient(var(--sklearn-color-text-on-default-background), var(--sklearn-color-text-on-default-background));\n",
       "  background-size: 2px 100%;\n",
       "  background-repeat: no-repeat;\n",
       "  background-position: center center;\n",
       "}\n",
       "\n",
       "/* Parallel-specific style estimator block */\n",
       "\n",
       "#sk-container-id-6 div.sk-parallel-item::after {\n",
       "  content: \"\";\n",
       "  width: 100%;\n",
       "  border-bottom: 2px solid var(--sklearn-color-text-on-default-background);\n",
       "  flex-grow: 1;\n",
       "}\n",
       "\n",
       "#sk-container-id-6 div.sk-parallel {\n",
       "  display: flex;\n",
       "  align-items: stretch;\n",
       "  justify-content: center;\n",
       "  background-color: var(--sklearn-color-background);\n",
       "  position: relative;\n",
       "}\n",
       "\n",
       "#sk-container-id-6 div.sk-parallel-item {\n",
       "  display: flex;\n",
       "  flex-direction: column;\n",
       "}\n",
       "\n",
       "#sk-container-id-6 div.sk-parallel-item:first-child::after {\n",
       "  align-self: flex-end;\n",
       "  width: 50%;\n",
       "}\n",
       "\n",
       "#sk-container-id-6 div.sk-parallel-item:last-child::after {\n",
       "  align-self: flex-start;\n",
       "  width: 50%;\n",
       "}\n",
       "\n",
       "#sk-container-id-6 div.sk-parallel-item:only-child::after {\n",
       "  width: 0;\n",
       "}\n",
       "\n",
       "/* Serial-specific style estimator block */\n",
       "\n",
       "#sk-container-id-6 div.sk-serial {\n",
       "  display: flex;\n",
       "  flex-direction: column;\n",
       "  align-items: center;\n",
       "  background-color: var(--sklearn-color-background);\n",
       "  padding-right: 1em;\n",
       "  padding-left: 1em;\n",
       "}\n",
       "\n",
       "\n",
       "/* Toggleable style: style used for estimator/Pipeline/ColumnTransformer box that is\n",
       "clickable and can be expanded/collapsed.\n",
       "- Pipeline and ColumnTransformer use this feature and define the default style\n",
       "- Estimators will overwrite some part of the style using the `sk-estimator` class\n",
       "*/\n",
       "\n",
       "/* Pipeline and ColumnTransformer style (default) */\n",
       "\n",
       "#sk-container-id-6 div.sk-toggleable {\n",
       "  /* Default theme specific background. It is overwritten whether we have a\n",
       "  specific estimator or a Pipeline/ColumnTransformer */\n",
       "  background-color: var(--sklearn-color-background);\n",
       "}\n",
       "\n",
       "/* Toggleable label */\n",
       "#sk-container-id-6 label.sk-toggleable__label {\n",
       "  cursor: pointer;\n",
       "  display: block;\n",
       "  width: 100%;\n",
       "  margin-bottom: 0;\n",
       "  padding: 0.5em;\n",
       "  box-sizing: border-box;\n",
       "  text-align: center;\n",
       "}\n",
       "\n",
       "#sk-container-id-6 label.sk-toggleable__label-arrow:before {\n",
       "  /* Arrow on the left of the label */\n",
       "  content: \"▸\";\n",
       "  float: left;\n",
       "  margin-right: 0.25em;\n",
       "  color: var(--sklearn-color-icon);\n",
       "}\n",
       "\n",
       "#sk-container-id-6 label.sk-toggleable__label-arrow:hover:before {\n",
       "  color: var(--sklearn-color-text);\n",
       "}\n",
       "\n",
       "/* Toggleable content - dropdown */\n",
       "\n",
       "#sk-container-id-6 div.sk-toggleable__content {\n",
       "  max-height: 0;\n",
       "  max-width: 0;\n",
       "  overflow: hidden;\n",
       "  text-align: left;\n",
       "  /* unfitted */\n",
       "  background-color: var(--sklearn-color-unfitted-level-0);\n",
       "}\n",
       "\n",
       "#sk-container-id-6 div.sk-toggleable__content.fitted {\n",
       "  /* fitted */\n",
       "  background-color: var(--sklearn-color-fitted-level-0);\n",
       "}\n",
       "\n",
       "#sk-container-id-6 div.sk-toggleable__content pre {\n",
       "  margin: 0.2em;\n",
       "  border-radius: 0.25em;\n",
       "  color: var(--sklearn-color-text);\n",
       "  /* unfitted */\n",
       "  background-color: var(--sklearn-color-unfitted-level-0);\n",
       "}\n",
       "\n",
       "#sk-container-id-6 div.sk-toggleable__content.fitted pre {\n",
       "  /* unfitted */\n",
       "  background-color: var(--sklearn-color-fitted-level-0);\n",
       "}\n",
       "\n",
       "#sk-container-id-6 input.sk-toggleable__control:checked~div.sk-toggleable__content {\n",
       "  /* Expand drop-down */\n",
       "  max-height: 200px;\n",
       "  max-width: 100%;\n",
       "  overflow: auto;\n",
       "}\n",
       "\n",
       "#sk-container-id-6 input.sk-toggleable__control:checked~label.sk-toggleable__label-arrow:before {\n",
       "  content: \"▾\";\n",
       "}\n",
       "\n",
       "/* Pipeline/ColumnTransformer-specific style */\n",
       "\n",
       "#sk-container-id-6 div.sk-label input.sk-toggleable__control:checked~label.sk-toggleable__label {\n",
       "  color: var(--sklearn-color-text);\n",
       "  background-color: var(--sklearn-color-unfitted-level-2);\n",
       "}\n",
       "\n",
       "#sk-container-id-6 div.sk-label.fitted input.sk-toggleable__control:checked~label.sk-toggleable__label {\n",
       "  background-color: var(--sklearn-color-fitted-level-2);\n",
       "}\n",
       "\n",
       "/* Estimator-specific style */\n",
       "\n",
       "/* Colorize estimator box */\n",
       "#sk-container-id-6 div.sk-estimator input.sk-toggleable__control:checked~label.sk-toggleable__label {\n",
       "  /* unfitted */\n",
       "  background-color: var(--sklearn-color-unfitted-level-2);\n",
       "}\n",
       "\n",
       "#sk-container-id-6 div.sk-estimator.fitted input.sk-toggleable__control:checked~label.sk-toggleable__label {\n",
       "  /* fitted */\n",
       "  background-color: var(--sklearn-color-fitted-level-2);\n",
       "}\n",
       "\n",
       "#sk-container-id-6 div.sk-label label.sk-toggleable__label,\n",
       "#sk-container-id-6 div.sk-label label {\n",
       "  /* The background is the default theme color */\n",
       "  color: var(--sklearn-color-text-on-default-background);\n",
       "}\n",
       "\n",
       "/* On hover, darken the color of the background */\n",
       "#sk-container-id-6 div.sk-label:hover label.sk-toggleable__label {\n",
       "  color: var(--sklearn-color-text);\n",
       "  background-color: var(--sklearn-color-unfitted-level-2);\n",
       "}\n",
       "\n",
       "/* Label box, darken color on hover, fitted */\n",
       "#sk-container-id-6 div.sk-label.fitted:hover label.sk-toggleable__label.fitted {\n",
       "  color: var(--sklearn-color-text);\n",
       "  background-color: var(--sklearn-color-fitted-level-2);\n",
       "}\n",
       "\n",
       "/* Estimator label */\n",
       "\n",
       "#sk-container-id-6 div.sk-label label {\n",
       "  font-family: monospace;\n",
       "  font-weight: bold;\n",
       "  display: inline-block;\n",
       "  line-height: 1.2em;\n",
       "}\n",
       "\n",
       "#sk-container-id-6 div.sk-label-container {\n",
       "  text-align: center;\n",
       "}\n",
       "\n",
       "/* Estimator-specific */\n",
       "#sk-container-id-6 div.sk-estimator {\n",
       "  font-family: monospace;\n",
       "  border: 1px dotted var(--sklearn-color-border-box);\n",
       "  border-radius: 0.25em;\n",
       "  box-sizing: border-box;\n",
       "  margin-bottom: 0.5em;\n",
       "  /* unfitted */\n",
       "  background-color: var(--sklearn-color-unfitted-level-0);\n",
       "}\n",
       "\n",
       "#sk-container-id-6 div.sk-estimator.fitted {\n",
       "  /* fitted */\n",
       "  background-color: var(--sklearn-color-fitted-level-0);\n",
       "}\n",
       "\n",
       "/* on hover */\n",
       "#sk-container-id-6 div.sk-estimator:hover {\n",
       "  /* unfitted */\n",
       "  background-color: var(--sklearn-color-unfitted-level-2);\n",
       "}\n",
       "\n",
       "#sk-container-id-6 div.sk-estimator.fitted:hover {\n",
       "  /* fitted */\n",
       "  background-color: var(--sklearn-color-fitted-level-2);\n",
       "}\n",
       "\n",
       "/* Specification for estimator info (e.g. \"i\" and \"?\") */\n",
       "\n",
       "/* Common style for \"i\" and \"?\" */\n",
       "\n",
       ".sk-estimator-doc-link,\n",
       "a:link.sk-estimator-doc-link,\n",
       "a:visited.sk-estimator-doc-link {\n",
       "  float: right;\n",
       "  font-size: smaller;\n",
       "  line-height: 1em;\n",
       "  font-family: monospace;\n",
       "  background-color: var(--sklearn-color-background);\n",
       "  border-radius: 1em;\n",
       "  height: 1em;\n",
       "  width: 1em;\n",
       "  text-decoration: none !important;\n",
       "  margin-left: 1ex;\n",
       "  /* unfitted */\n",
       "  border: var(--sklearn-color-unfitted-level-1) 1pt solid;\n",
       "  color: var(--sklearn-color-unfitted-level-1);\n",
       "}\n",
       "\n",
       ".sk-estimator-doc-link.fitted,\n",
       "a:link.sk-estimator-doc-link.fitted,\n",
       "a:visited.sk-estimator-doc-link.fitted {\n",
       "  /* fitted */\n",
       "  border: var(--sklearn-color-fitted-level-1) 1pt solid;\n",
       "  color: var(--sklearn-color-fitted-level-1);\n",
       "}\n",
       "\n",
       "/* On hover */\n",
       "div.sk-estimator:hover .sk-estimator-doc-link:hover,\n",
       ".sk-estimator-doc-link:hover,\n",
       "div.sk-label-container:hover .sk-estimator-doc-link:hover,\n",
       ".sk-estimator-doc-link:hover {\n",
       "  /* unfitted */\n",
       "  background-color: var(--sklearn-color-unfitted-level-3);\n",
       "  color: var(--sklearn-color-background);\n",
       "  text-decoration: none;\n",
       "}\n",
       "\n",
       "div.sk-estimator.fitted:hover .sk-estimator-doc-link.fitted:hover,\n",
       ".sk-estimator-doc-link.fitted:hover,\n",
       "div.sk-label-container:hover .sk-estimator-doc-link.fitted:hover,\n",
       ".sk-estimator-doc-link.fitted:hover {\n",
       "  /* fitted */\n",
       "  background-color: var(--sklearn-color-fitted-level-3);\n",
       "  color: var(--sklearn-color-background);\n",
       "  text-decoration: none;\n",
       "}\n",
       "\n",
       "/* Span, style for the box shown on hovering the info icon */\n",
       ".sk-estimator-doc-link span {\n",
       "  display: none;\n",
       "  z-index: 9999;\n",
       "  position: relative;\n",
       "  font-weight: normal;\n",
       "  right: .2ex;\n",
       "  padding: .5ex;\n",
       "  margin: .5ex;\n",
       "  width: min-content;\n",
       "  min-width: 20ex;\n",
       "  max-width: 50ex;\n",
       "  color: var(--sklearn-color-text);\n",
       "  box-shadow: 2pt 2pt 4pt #999;\n",
       "  /* unfitted */\n",
       "  background: var(--sklearn-color-unfitted-level-0);\n",
       "  border: .5pt solid var(--sklearn-color-unfitted-level-3);\n",
       "}\n",
       "\n",
       ".sk-estimator-doc-link.fitted span {\n",
       "  /* fitted */\n",
       "  background: var(--sklearn-color-fitted-level-0);\n",
       "  border: var(--sklearn-color-fitted-level-3);\n",
       "}\n",
       "\n",
       ".sk-estimator-doc-link:hover span {\n",
       "  display: block;\n",
       "}\n",
       "\n",
       "/* \"?\"-specific style due to the `<a>` HTML tag */\n",
       "\n",
       "#sk-container-id-6 a.estimator_doc_link {\n",
       "  float: right;\n",
       "  font-size: 1rem;\n",
       "  line-height: 1em;\n",
       "  font-family: monospace;\n",
       "  background-color: var(--sklearn-color-background);\n",
       "  border-radius: 1rem;\n",
       "  height: 1rem;\n",
       "  width: 1rem;\n",
       "  text-decoration: none;\n",
       "  /* unfitted */\n",
       "  color: var(--sklearn-color-unfitted-level-1);\n",
       "  border: var(--sklearn-color-unfitted-level-1) 1pt solid;\n",
       "}\n",
       "\n",
       "#sk-container-id-6 a.estimator_doc_link.fitted {\n",
       "  /* fitted */\n",
       "  border: var(--sklearn-color-fitted-level-1) 1pt solid;\n",
       "  color: var(--sklearn-color-fitted-level-1);\n",
       "}\n",
       "\n",
       "/* On hover */\n",
       "#sk-container-id-6 a.estimator_doc_link:hover {\n",
       "  /* unfitted */\n",
       "  background-color: var(--sklearn-color-unfitted-level-3);\n",
       "  color: var(--sklearn-color-background);\n",
       "  text-decoration: none;\n",
       "}\n",
       "\n",
       "#sk-container-id-6 a.estimator_doc_link.fitted:hover {\n",
       "  /* fitted */\n",
       "  background-color: var(--sklearn-color-fitted-level-3);\n",
       "}\n",
       "</style><div id=\"sk-container-id-6\" class=\"sk-top-container\"><div class=\"sk-text-repr-fallback\"><pre>XGBClassifier(base_score=None, booster=None, callbacks=None,\n",
       "              colsample_bylevel=None, colsample_bynode=None,\n",
       "              colsample_bytree=None, device=None, early_stopping_rounds=None,\n",
       "              enable_categorical=False, eval_metric=None, feature_types=None,\n",
       "              gamma=None, grow_policy=None, importance_type=None,\n",
       "              interaction_constraints=None, learning_rate=0.01, max_bin=None,\n",
       "              max_cat_threshold=None, max_cat_to_onehot=None,\n",
       "              max_delta_step=None, max_depth=4, max_leaves=None,\n",
       "              min_child_weight=None, missing=nan, monotone_constraints=None,\n",
       "              multi_strategy=None, n_estimators=850, n_jobs=None,\n",
       "              num_parallel_tree=None, random_state=None, ...)</pre><b>In a Jupyter environment, please rerun this cell to show the HTML representation or trust the notebook. <br />On GitHub, the HTML representation is unable to render, please try loading this page with nbviewer.org.</b></div><div class=\"sk-container\" hidden><div class=\"sk-item\"><div class=\"sk-estimator fitted sk-toggleable\"><input class=\"sk-toggleable__control sk-hidden--visually\" id=\"sk-estimator-id-6\" type=\"checkbox\" checked><label for=\"sk-estimator-id-6\" class=\"sk-toggleable__label fitted sk-toggleable__label-arrow fitted\">&nbsp;XGBClassifier<span class=\"sk-estimator-doc-link fitted\">i<span>Fitted</span></span></label><div class=\"sk-toggleable__content fitted\"><pre>XGBClassifier(base_score=None, booster=None, callbacks=None,\n",
       "              colsample_bylevel=None, colsample_bynode=None,\n",
       "              colsample_bytree=None, device=None, early_stopping_rounds=None,\n",
       "              enable_categorical=False, eval_metric=None, feature_types=None,\n",
       "              gamma=None, grow_policy=None, importance_type=None,\n",
       "              interaction_constraints=None, learning_rate=0.01, max_bin=None,\n",
       "              max_cat_threshold=None, max_cat_to_onehot=None,\n",
       "              max_delta_step=None, max_depth=4, max_leaves=None,\n",
       "              min_child_weight=None, missing=nan, monotone_constraints=None,\n",
       "              multi_strategy=None, n_estimators=850, n_jobs=None,\n",
       "              num_parallel_tree=None, random_state=None, ...)</pre></div> </div></div></div></div>"
      ],
      "text/plain": [
       "XGBClassifier(base_score=None, booster=None, callbacks=None,\n",
       "              colsample_bylevel=None, colsample_bynode=None,\n",
       "              colsample_bytree=None, device=None, early_stopping_rounds=None,\n",
       "              enable_categorical=False, eval_metric=None, feature_types=None,\n",
       "              gamma=None, grow_policy=None, importance_type=None,\n",
       "              interaction_constraints=None, learning_rate=0.01, max_bin=None,\n",
       "              max_cat_threshold=None, max_cat_to_onehot=None,\n",
       "              max_delta_step=None, max_depth=4, max_leaves=None,\n",
       "              min_child_weight=None, missing=nan, monotone_constraints=None,\n",
       "              multi_strategy=None, n_estimators=850, n_jobs=None,\n",
       "              num_parallel_tree=None, random_state=None, ...)"
      ]
     },
     "execution_count": 125,
     "metadata": {},
     "output_type": "execute_result"
    }
   ],
   "source": [
    "bestXgbModel.fit(X_blc, y_blc)\n"
   ]
  },
  {
   "cell_type": "code",
   "execution_count": 126,
   "metadata": {},
   "outputs": [],
   "source": [
    "y_pred = bestXgbModel.predict(X_test_scaled)\n"
   ]
  },
  {
   "cell_type": "code",
   "execution_count": 127,
   "metadata": {},
   "outputs": [],
   "source": [
    "from sklearn.metrics import confusion_matrix\n",
    "conf_matrix = confusion_matrix(y_test_old, y_pred)\n"
   ]
  },
  {
   "cell_type": "code",
   "execution_count": 128,
   "metadata": {},
   "outputs": [
    {
     "data": {
      "image/png": "[encoded data removed]",
      "text/plain": [
       "<Figure size 640x480 with 1 Axes>"
      ]
     },
     "metadata": {},
     "output_type": "display_data"
    }
   ],
   "source": [
    "sns.heatmap(conf_matrix, annot=True, fmt='d', cmap='Greys', cbar=False)\n",
    "plt.title('Confusion Matrix for XGBoostClassifier')\n",
    "plt.xlabel('Predicted Label')\n",
    "plt.ylabel('True Label')\n",
    "plt.show()\n"
   ]
  },
  {
   "cell_type": "code",
   "execution_count": 130,
   "metadata": {},
   "outputs": [
    {
     "name": "stdout",
     "output_type": "stream",
     "text": [
      "\n",
      "Classification Report for XGBoostClassifier:\n",
      "              precision    recall  f1-score   support\n",
      "\n",
      "           0       0.62      0.58      0.60      1563\n",
      "           1       0.60      0.64      0.62      1551\n",
      "\n",
      "    accuracy                           0.61      3114\n",
      "   macro avg       0.61      0.61      0.61      3114\n",
      "weighted avg       0.61      0.61      0.61      3114\n",
      "\n"
     ]
    }
   ],
   "source": [
    "from sklearn.metrics import classification_report\n",
    "\n",
    "classification_rep = classification_report(y_test_old, y_pred)\n",
    "print('\\nClassification Report for XGBoostClassifier:')\n",
    "print(classification_rep)\n"
   ]
  },
  {
   "cell_type": "markdown",
   "metadata": {},
   "source": [
    "#### Manually resampled with XGBoost Classifier"
   ]
  },
  {
   "cell_type": "code",
   "execution_count": 703,
   "metadata": {},
   "outputs": [],
   "source": [
    "from sklearn.model_selection import GridSearchCV\n",
    "from xgboost import XGBClassifier\n",
    "from imblearn.over_sampling import SMOTE\n",
    "from sklearn.preprocessing import StandardScaler\n"
   ]
  },
  {
   "cell_type": "markdown",
   "metadata": {},
   "source": [
    "##### Select Columns"
   ]
  },
  {
   "cell_type": "code",
   "execution_count": 704,
   "metadata": {},
   "outputs": [],
   "source": [
    "selected_columns =['produto_solicitado', 'dia_vencimento', 'forma_envio_solicitacao',\n",
    "       'tipo_endereco', 'sexo', 'idade', 'estado_civil', 'qtde_dependentes',\n",
    "       'nacionalidade', 'estado_onde_nasceu', 'estado_onde_reside',\n",
    "       'possui_telefone_residencial', 'codigo_area_telefone_residencial',\n",
    "       'tipo_residencia', 'meses_na_residencia', 'possui_email',\n",
    "       'renda_mensal_regular', 'renda_extra', 'possui_cartao_visa',\n",
    "       'possui_cartao_mastercard', 'possui_outros_cartoes', 'possui_carro',\n",
    "       'vinculo_formal_com_empresa', 'estado_onde_trabalha',\n",
    "       'possui_telefone_trabalho', 'codigo_area_telefone_trabalho',\n",
    "       'profissao', 'ocupacao', 'local_onde_reside']\n",
    "X_train = X_train_old[selected_columns]\n",
    "X_test_old = X_test_old[selected_columns]\n",
    "y_train = y_train_old\n",
    "y_test_old = y_test_old"
   ]
  },
  {
   "cell_type": "code",
   "execution_count": 705,
   "metadata": {},
   "outputs": [
    {
     "name": "stdout",
     "output_type": "stream",
     "text": [
      "Normalized input data(X):\n",
      " [[ 5.63391906  0.28469581  0.98177083 ...  0.31206307 -0.33664903\n",
      "   0.72253853]\n",
      " [-0.28004067  0.28469581 -0.72260335 ...  0.31206307  1.63211544\n",
      "  -1.03528125]\n",
      " [-0.28004067 -0.45543451 -0.72260335 ...  0.31206307 -0.33664903\n",
      "   1.53898781]\n",
      " ...\n",
      " [-0.28004067 -0.45543451 -0.72260335 ...  0.31206307 -0.99290385\n",
      "  -0.08944929]\n",
      " [-0.28004067  0.28469581  0.98177083 ...  0.31206307  1.63211544\n",
      "  -0.59805704]\n",
      " [-0.28004067  0.28469581 -0.72260335 ... -1.84525602  0.97586062\n",
      "   0.44592729]]\n"
     ]
    }
   ],
   "source": [
    "scaler = StandardScaler()\n",
    "\n",
    "X_train_scaled= scaler.fit_transform(X_train)\n",
    "X_test_scaled = scaler.transform(X_test_old)\n",
    "print(\"Normalized input data(X):\\n\", X_train_scaled)"
   ]
  },
  {
   "cell_type": "code",
   "execution_count": 706,
   "metadata": {},
   "outputs": [],
   "source": [
    "X_blc, y_blc = X_train_scaled, y_train\n"
   ]
  },
  {
   "cell_type": "code",
   "execution_count": 707,
   "metadata": {},
   "outputs": [],
   "source": [
    "## Busca por parametros\n",
    "\n",
    "# # Define the hyperparameter grid for grid search\n",
    "# param_grid = {\n",
    "#     'n_estimators': [100, 200, 300, 800,850],    \n",
    "#     'learning_rate': [0.01, 0.001, 0.1, 0.2],   \n",
    "#     'max_depth': [3, 4, 5,6],              \n",
    "# }\n",
    "\n",
    "\n",
    "# grid_search = GridSearchCV(estimator=xgb, param_grid=param_grid, scoring='roc_auc', cv=10, n_jobs=-1)\n",
    "\n",
    "# grid_search.fit(X_blc, y_blc) # Demorou 2 min e 22s\n",
    "\n"
   ]
  },
  {
   "cell_type": "markdown",
   "metadata": {},
   "source": [
    "##### Create and Fit Model"
   ]
  },
  {
   "cell_type": "code",
   "execution_count": 708,
   "metadata": {},
   "outputs": [],
   "source": [
    "bestXgbModel = XGBClassifier(base_score=None, booster=None, callbacks=None,\n",
    "              colsample_bylevel=None, colsample_bynode=None,\n",
    "              colsample_bytree=None, device=None, early_stopping_rounds=None,\n",
    "              enable_categorical=False, eval_metric=None, feature_types=None,\n",
    "              gamma=None, grow_policy=None, importance_type=None,\n",
    "              interaction_constraints=None, learning_rate=0.01, max_bin=None,\n",
    "              max_cat_threshold=None, max_cat_to_onehot=None,\n",
    "              max_delta_step=None, max_depth=4, max_leaves=None,\n",
    "              min_child_weight=None, monotone_constraints=None,\n",
    "              multi_strategy=None, n_estimators=850, n_jobs=None,\n",
    "              num_parallel_tree=None, random_state=None)\n"
   ]
  },
  {
   "cell_type": "code",
   "execution_count": 709,
   "metadata": {},
   "outputs": [
    {
     "data": {
      "text/html": [
       "<style>#sk-container-id-11 {\n",
       "  /* Definition of color scheme common for light and dark mode */\n",
       "  --sklearn-color-text: black;\n",
       "  --sklearn-color-line: gray;\n",
       "  /* Definition of color scheme for unfitted estimators */\n",
       "  --sklearn-color-unfitted-level-0: #fff5e6;\n",
       "  --sklearn-color-unfitted-level-1: #f6e4d2;\n",
       "  --sklearn-color-unfitted-level-2: #ffe0b3;\n",
       "  --sklearn-color-unfitted-level-3: chocolate;\n",
       "  /* Definition of color scheme for fitted estimators */\n",
       "  --sklearn-color-fitted-level-0: #f0f8ff;\n",
       "  --sklearn-color-fitted-level-1: #d4ebff;\n",
       "  --sklearn-color-fitted-level-2: #b3dbfd;\n",
       "  --sklearn-color-fitted-level-3: cornflowerblue;\n",
       "\n",
       "  /* Specific color for light theme */\n",
       "  --sklearn-color-text-on-default-background: var(--sg-text-color, var(--theme-code-foreground, var(--jp-content-font-color1, black)));\n",
       "  --sklearn-color-background: var(--sg-background-color, var(--theme-background, var(--jp-layout-color0, white)));\n",
       "  --sklearn-color-border-box: var(--sg-text-color, var(--theme-code-foreground, var(--jp-content-font-color1, black)));\n",
       "  --sklearn-color-icon: #696969;\n",
       "\n",
       "  @media (prefers-color-scheme: dark) {\n",
       "    /* Redefinition of color scheme for dark theme */\n",
       "    --sklearn-color-text-on-default-background: var(--sg-text-color, var(--theme-code-foreground, var(--jp-content-font-color1, white)));\n",
       "    --sklearn-color-background: var(--sg-background-color, var(--theme-background, var(--jp-layout-color0, #111)));\n",
       "    --sklearn-color-border-box: var(--sg-text-color, var(--theme-code-foreground, var(--jp-content-font-color1, white)));\n",
       "    --sklearn-color-icon: #878787;\n",
       "  }\n",
       "}\n",
       "\n",
       "#sk-container-id-11 {\n",
       "  color: var(--sklearn-color-text);\n",
       "}\n",
       "\n",
       "#sk-container-id-11 pre {\n",
       "  padding: 0;\n",
       "}\n",
       "\n",
       "#sk-container-id-11 input.sk-hidden--visually {\n",
       "  border: 0;\n",
       "  clip: rect(1px 1px 1px 1px);\n",
       "  clip: rect(1px, 1px, 1px, 1px);\n",
       "  height: 1px;\n",
       "  margin: -1px;\n",
       "  overflow: hidden;\n",
       "  padding: 0;\n",
       "  position: absolute;\n",
       "  width: 1px;\n",
       "}\n",
       "\n",
       "#sk-container-id-11 div.sk-dashed-wrapped {\n",
       "  border: 1px dashed var(--sklearn-color-line);\n",
       "  margin: 0 0.4em 0.5em 0.4em;\n",
       "  box-sizing: border-box;\n",
       "  padding-bottom: 0.4em;\n",
       "  background-color: var(--sklearn-color-background);\n",
       "}\n",
       "\n",
       "#sk-container-id-11 div.sk-container {\n",
       "  /* jupyter's `normalize.less` sets `[hidden] { display: none; }`\n",
       "     but bootstrap.min.css set `[hidden] { display: none !important; }`\n",
       "     so we also need the `!important` here to be able to override the\n",
       "     default hidden behavior on the sphinx rendered scikit-learn.org.\n",
       "     See: https://github.com/scikit-learn/scikit-learn/issues/21755 */\n",
       "  display: inline-block !important;\n",
       "  position: relative;\n",
       "}\n",
       "\n",
       "#sk-container-id-11 div.sk-text-repr-fallback {\n",
       "  display: none;\n",
       "}\n",
       "\n",
       "div.sk-parallel-item,\n",
       "div.sk-serial,\n",
       "div.sk-item {\n",
       "  /* draw centered vertical line to link estimators */\n",
       "  background-image: linear-gradient(var(--sklearn-color-text-on-default-background), var(--sklearn-color-text-on-default-background));\n",
       "  background-size: 2px 100%;\n",
       "  background-repeat: no-repeat;\n",
       "  background-position: center center;\n",
       "}\n",
       "\n",
       "/* Parallel-specific style estimator block */\n",
       "\n",
       "#sk-container-id-11 div.sk-parallel-item::after {\n",
       "  content: \"\";\n",
       "  width: 100%;\n",
       "  border-bottom: 2px solid var(--sklearn-color-text-on-default-background);\n",
       "  flex-grow: 1;\n",
       "}\n",
       "\n",
       "#sk-container-id-11 div.sk-parallel {\n",
       "  display: flex;\n",
       "  align-items: stretch;\n",
       "  justify-content: center;\n",
       "  background-color: var(--sklearn-color-background);\n",
       "  position: relative;\n",
       "}\n",
       "\n",
       "#sk-container-id-11 div.sk-parallel-item {\n",
       "  display: flex;\n",
       "  flex-direction: column;\n",
       "}\n",
       "\n",
       "#sk-container-id-11 div.sk-parallel-item:first-child::after {\n",
       "  align-self: flex-end;\n",
       "  width: 50%;\n",
       "}\n",
       "\n",
       "#sk-container-id-11 div.sk-parallel-item:last-child::after {\n",
       "  align-self: flex-start;\n",
       "  width: 50%;\n",
       "}\n",
       "\n",
       "#sk-container-id-11 div.sk-parallel-item:only-child::after {\n",
       "  width: 0;\n",
       "}\n",
       "\n",
       "/* Serial-specific style estimator block */\n",
       "\n",
       "#sk-container-id-11 div.sk-serial {\n",
       "  display: flex;\n",
       "  flex-direction: column;\n",
       "  align-items: center;\n",
       "  background-color: var(--sklearn-color-background);\n",
       "  padding-right: 1em;\n",
       "  padding-left: 1em;\n",
       "}\n",
       "\n",
       "\n",
       "/* Toggleable style: style used for estimator/Pipeline/ColumnTransformer box that is\n",
       "clickable and can be expanded/collapsed.\n",
       "- Pipeline and ColumnTransformer use this feature and define the default style\n",
       "- Estimators will overwrite some part of the style using the `sk-estimator` class\n",
       "*/\n",
       "\n",
       "/* Pipeline and ColumnTransformer style (default) */\n",
       "\n",
       "#sk-container-id-11 div.sk-toggleable {\n",
       "  /* Default theme specific background. It is overwritten whether we have a\n",
       "  specific estimator or a Pipeline/ColumnTransformer */\n",
       "  background-color: var(--sklearn-color-background);\n",
       "}\n",
       "\n",
       "/* Toggleable label */\n",
       "#sk-container-id-11 label.sk-toggleable__label {\n",
       "  cursor: pointer;\n",
       "  display: block;\n",
       "  width: 100%;\n",
       "  margin-bottom: 0;\n",
       "  padding: 0.5em;\n",
       "  box-sizing: border-box;\n",
       "  text-align: center;\n",
       "}\n",
       "\n",
       "#sk-container-id-11 label.sk-toggleable__label-arrow:before {\n",
       "  /* Arrow on the left of the label */\n",
       "  content: \"▸\";\n",
       "  float: left;\n",
       "  margin-right: 0.25em;\n",
       "  color: var(--sklearn-color-icon);\n",
       "}\n",
       "\n",
       "#sk-container-id-11 label.sk-toggleable__label-arrow:hover:before {\n",
       "  color: var(--sklearn-color-text);\n",
       "}\n",
       "\n",
       "/* Toggleable content - dropdown */\n",
       "\n",
       "#sk-container-id-11 div.sk-toggleable__content {\n",
       "  max-height: 0;\n",
       "  max-width: 0;\n",
       "  overflow: hidden;\n",
       "  text-align: left;\n",
       "  /* unfitted */\n",
       "  background-color: var(--sklearn-color-unfitted-level-0);\n",
       "}\n",
       "\n",
       "#sk-container-id-11 div.sk-toggleable__content.fitted {\n",
       "  /* fitted */\n",
       "  background-color: var(--sklearn-color-fitted-level-0);\n",
       "}\n",
       "\n",
       "#sk-container-id-11 div.sk-toggleable__content pre {\n",
       "  margin: 0.2em;\n",
       "  border-radius: 0.25em;\n",
       "  color: var(--sklearn-color-text);\n",
       "  /* unfitted */\n",
       "  background-color: var(--sklearn-color-unfitted-level-0);\n",
       "}\n",
       "\n",
       "#sk-container-id-11 div.sk-toggleable__content.fitted pre {\n",
       "  /* unfitted */\n",
       "  background-color: var(--sklearn-color-fitted-level-0);\n",
       "}\n",
       "\n",
       "#sk-container-id-11 input.sk-toggleable__control:checked~div.sk-toggleable__content {\n",
       "  /* Expand drop-down */\n",
       "  max-height: 200px;\n",
       "  max-width: 100%;\n",
       "  overflow: auto;\n",
       "}\n",
       "\n",
       "#sk-container-id-11 input.sk-toggleable__control:checked~label.sk-toggleable__label-arrow:before {\n",
       "  content: \"▾\";\n",
       "}\n",
       "\n",
       "/* Pipeline/ColumnTransformer-specific style */\n",
       "\n",
       "#sk-container-id-11 div.sk-label input.sk-toggleable__control:checked~label.sk-toggleable__label {\n",
       "  color: var(--sklearn-color-text);\n",
       "  background-color: var(--sklearn-color-unfitted-level-2);\n",
       "}\n",
       "\n",
       "#sk-container-id-11 div.sk-label.fitted input.sk-toggleable__control:checked~label.sk-toggleable__label {\n",
       "  background-color: var(--sklearn-color-fitted-level-2);\n",
       "}\n",
       "\n",
       "/* Estimator-specific style */\n",
       "\n",
       "/* Colorize estimator box */\n",
       "#sk-container-id-11 div.sk-estimator input.sk-toggleable__control:checked~label.sk-toggleable__label {\n",
       "  /* unfitted */\n",
       "  background-color: var(--sklearn-color-unfitted-level-2);\n",
       "}\n",
       "\n",
       "#sk-container-id-11 div.sk-estimator.fitted input.sk-toggleable__control:checked~label.sk-toggleable__label {\n",
       "  /* fitted */\n",
       "  background-color: var(--sklearn-color-fitted-level-2);\n",
       "}\n",
       "\n",
       "#sk-container-id-11 div.sk-label label.sk-toggleable__label,\n",
       "#sk-container-id-11 div.sk-label label {\n",
       "  /* The background is the default theme color */\n",
       "  color: var(--sklearn-color-text-on-default-background);\n",
       "}\n",
       "\n",
       "/* On hover, darken the color of the background */\n",
       "#sk-container-id-11 div.sk-label:hover label.sk-toggleable__label {\n",
       "  color: var(--sklearn-color-text);\n",
       "  background-color: var(--sklearn-color-unfitted-level-2);\n",
       "}\n",
       "\n",
       "/* Label box, darken color on hover, fitted */\n",
       "#sk-container-id-11 div.sk-label.fitted:hover label.sk-toggleable__label.fitted {\n",
       "  color: var(--sklearn-color-text);\n",
       "  background-color: var(--sklearn-color-fitted-level-2);\n",
       "}\n",
       "\n",
       "/* Estimator label */\n",
       "\n",
       "#sk-container-id-11 div.sk-label label {\n",
       "  font-family: monospace;\n",
       "  font-weight: bold;\n",
       "  display: inline-block;\n",
       "  line-height: 1.2em;\n",
       "}\n",
       "\n",
       "#sk-container-id-11 div.sk-label-container {\n",
       "  text-align: center;\n",
       "}\n",
       "\n",
       "/* Estimator-specific */\n",
       "#sk-container-id-11 div.sk-estimator {\n",
       "  font-family: monospace;\n",
       "  border: 1px dotted var(--sklearn-color-border-box);\n",
       "  border-radius: 0.25em;\n",
       "  box-sizing: border-box;\n",
       "  margin-bottom: 0.5em;\n",
       "  /* unfitted */\n",
       "  background-color: var(--sklearn-color-unfitted-level-0);\n",
       "}\n",
       "\n",
       "#sk-container-id-11 div.sk-estimator.fitted {\n",
       "  /* fitted */\n",
       "  background-color: var(--sklearn-color-fitted-level-0);\n",
       "}\n",
       "\n",
       "/* on hover */\n",
       "#sk-container-id-11 div.sk-estimator:hover {\n",
       "  /* unfitted */\n",
       "  background-color: var(--sklearn-color-unfitted-level-2);\n",
       "}\n",
       "\n",
       "#sk-container-id-11 div.sk-estimator.fitted:hover {\n",
       "  /* fitted */\n",
       "  background-color: var(--sklearn-color-fitted-level-2);\n",
       "}\n",
       "\n",
       "/* Specification for estimator info (e.g. \"i\" and \"?\") */\n",
       "\n",
       "/* Common style for \"i\" and \"?\" */\n",
       "\n",
       ".sk-estimator-doc-link,\n",
       "a:link.sk-estimator-doc-link,\n",
       "a:visited.sk-estimator-doc-link {\n",
       "  float: right;\n",
       "  font-size: smaller;\n",
       "  line-height: 1em;\n",
       "  font-family: monospace;\n",
       "  background-color: var(--sklearn-color-background);\n",
       "  border-radius: 1em;\n",
       "  height: 1em;\n",
       "  width: 1em;\n",
       "  text-decoration: none !important;\n",
       "  margin-left: 1ex;\n",
       "  /* unfitted */\n",
       "  border: var(--sklearn-color-unfitted-level-1) 1pt solid;\n",
       "  color: var(--sklearn-color-unfitted-level-1);\n",
       "}\n",
       "\n",
       ".sk-estimator-doc-link.fitted,\n",
       "a:link.sk-estimator-doc-link.fitted,\n",
       "a:visited.sk-estimator-doc-link.fitted {\n",
       "  /* fitted */\n",
       "  border: var(--sklearn-color-fitted-level-1) 1pt solid;\n",
       "  color: var(--sklearn-color-fitted-level-1);\n",
       "}\n",
       "\n",
       "/* On hover */\n",
       "div.sk-estimator:hover .sk-estimator-doc-link:hover,\n",
       ".sk-estimator-doc-link:hover,\n",
       "div.sk-label-container:hover .sk-estimator-doc-link:hover,\n",
       ".sk-estimator-doc-link:hover {\n",
       "  /* unfitted */\n",
       "  background-color: var(--sklearn-color-unfitted-level-3);\n",
       "  color: var(--sklearn-color-background);\n",
       "  text-decoration: none;\n",
       "}\n",
       "\n",
       "div.sk-estimator.fitted:hover .sk-estimator-doc-link.fitted:hover,\n",
       ".sk-estimator-doc-link.fitted:hover,\n",
       "div.sk-label-container:hover .sk-estimator-doc-link.fitted:hover,\n",
       ".sk-estimator-doc-link.fitted:hover {\n",
       "  /* fitted */\n",
       "  background-color: var(--sklearn-color-fitted-level-3);\n",
       "  color: var(--sklearn-color-background);\n",
       "  text-decoration: none;\n",
       "}\n",
       "\n",
       "/* Span, style for the box shown on hovering the info icon */\n",
       ".sk-estimator-doc-link span {\n",
       "  display: none;\n",
       "  z-index: 9999;\n",
       "  position: relative;\n",
       "  font-weight: normal;\n",
       "  right: .2ex;\n",
       "  padding: .5ex;\n",
       "  margin: .5ex;\n",
       "  width: min-content;\n",
       "  min-width: 20ex;\n",
       "  max-width: 50ex;\n",
       "  color: var(--sklearn-color-text);\n",
       "  box-shadow: 2pt 2pt 4pt #999;\n",
       "  /* unfitted */\n",
       "  background: var(--sklearn-color-unfitted-level-0);\n",
       "  border: .5pt solid var(--sklearn-color-unfitted-level-3);\n",
       "}\n",
       "\n",
       ".sk-estimator-doc-link.fitted span {\n",
       "  /* fitted */\n",
       "  background: var(--sklearn-color-fitted-level-0);\n",
       "  border: var(--sklearn-color-fitted-level-3);\n",
       "}\n",
       "\n",
       ".sk-estimator-doc-link:hover span {\n",
       "  display: block;\n",
       "}\n",
       "\n",
       "/* \"?\"-specific style due to the `<a>` HTML tag */\n",
       "\n",
       "#sk-container-id-11 a.estimator_doc_link {\n",
       "  float: right;\n",
       "  font-size: 1rem;\n",
       "  line-height: 1em;\n",
       "  font-family: monospace;\n",
       "  background-color: var(--sklearn-color-background);\n",
       "  border-radius: 1rem;\n",
       "  height: 1rem;\n",
       "  width: 1rem;\n",
       "  text-decoration: none;\n",
       "  /* unfitted */\n",
       "  color: var(--sklearn-color-unfitted-level-1);\n",
       "  border: var(--sklearn-color-unfitted-level-1) 1pt solid;\n",
       "}\n",
       "\n",
       "#sk-container-id-11 a.estimator_doc_link.fitted {\n",
       "  /* fitted */\n",
       "  border: var(--sklearn-color-fitted-level-1) 1pt solid;\n",
       "  color: var(--sklearn-color-fitted-level-1);\n",
       "}\n",
       "\n",
       "/* On hover */\n",
       "#sk-container-id-11 a.estimator_doc_link:hover {\n",
       "  /* unfitted */\n",
       "  background-color: var(--sklearn-color-unfitted-level-3);\n",
       "  color: var(--sklearn-color-background);\n",
       "  text-decoration: none;\n",
       "}\n",
       "\n",
       "#sk-container-id-11 a.estimator_doc_link.fitted:hover {\n",
       "  /* fitted */\n",
       "  background-color: var(--sklearn-color-fitted-level-3);\n",
       "}\n",
       "</style><div id=\"sk-container-id-11\" class=\"sk-top-container\"><div class=\"sk-text-repr-fallback\"><pre>XGBClassifier(base_score=None, booster=None, callbacks=None,\n",
       "              colsample_bylevel=None, colsample_bynode=None,\n",
       "              colsample_bytree=None, device=None, early_stopping_rounds=None,\n",
       "              enable_categorical=False, eval_metric=None, feature_types=None,\n",
       "              gamma=None, grow_policy=None, importance_type=None,\n",
       "              interaction_constraints=None, learning_rate=0.01, max_bin=None,\n",
       "              max_cat_threshold=None, max_cat_to_onehot=None,\n",
       "              max_delta_step=None, max_depth=4, max_leaves=None,\n",
       "              min_child_weight=None, missing=nan, monotone_constraints=None,\n",
       "              multi_strategy=None, n_estimators=850, n_jobs=None,\n",
       "              num_parallel_tree=None, random_state=None, ...)</pre><b>In a Jupyter environment, please rerun this cell to show the HTML representation or trust the notebook. <br />On GitHub, the HTML representation is unable to render, please try loading this page with nbviewer.org.</b></div><div class=\"sk-container\" hidden><div class=\"sk-item\"><div class=\"sk-estimator fitted sk-toggleable\"><input class=\"sk-toggleable__control sk-hidden--visually\" id=\"sk-estimator-id-11\" type=\"checkbox\" checked><label for=\"sk-estimator-id-11\" class=\"sk-toggleable__label fitted sk-toggleable__label-arrow fitted\">&nbsp;XGBClassifier<span class=\"sk-estimator-doc-link fitted\">i<span>Fitted</span></span></label><div class=\"sk-toggleable__content fitted\"><pre>XGBClassifier(base_score=None, booster=None, callbacks=None,\n",
       "              colsample_bylevel=None, colsample_bynode=None,\n",
       "              colsample_bytree=None, device=None, early_stopping_rounds=None,\n",
       "              enable_categorical=False, eval_metric=None, feature_types=None,\n",
       "              gamma=None, grow_policy=None, importance_type=None,\n",
       "              interaction_constraints=None, learning_rate=0.01, max_bin=None,\n",
       "              max_cat_threshold=None, max_cat_to_onehot=None,\n",
       "              max_delta_step=None, max_depth=4, max_leaves=None,\n",
       "              min_child_weight=None, missing=nan, monotone_constraints=None,\n",
       "              multi_strategy=None, n_estimators=850, n_jobs=None,\n",
       "              num_parallel_tree=None, random_state=None, ...)</pre></div> </div></div></div></div>"
      ],
      "text/plain": [
       "XGBClassifier(base_score=None, booster=None, callbacks=None,\n",
       "              colsample_bylevel=None, colsample_bynode=None,\n",
       "              colsample_bytree=None, device=None, early_stopping_rounds=None,\n",
       "              enable_categorical=False, eval_metric=None, feature_types=None,\n",
       "              gamma=None, grow_policy=None, importance_type=None,\n",
       "              interaction_constraints=None, learning_rate=0.01, max_bin=None,\n",
       "              max_cat_threshold=None, max_cat_to_onehot=None,\n",
       "              max_delta_step=None, max_depth=4, max_leaves=None,\n",
       "              min_child_weight=None, missing=nan, monotone_constraints=None,\n",
       "              multi_strategy=None, n_estimators=850, n_jobs=None,\n",
       "              num_parallel_tree=None, random_state=None, ...)"
      ]
     },
     "execution_count": 709,
     "metadata": {},
     "output_type": "execute_result"
    }
   ],
   "source": [
    "bestXgbModel.fit(X_blc, y_blc)\n"
   ]
  },
  {
   "cell_type": "code",
   "execution_count": 710,
   "metadata": {},
   "outputs": [],
   "source": [
    "y_pred = bestXgbModel.predict(X_test_scaled)\n"
   ]
  },
  {
   "cell_type": "markdown",
   "metadata": {},
   "source": [
    "##### Metrics"
   ]
  },
  {
   "cell_type": "code",
   "execution_count": 711,
   "metadata": {},
   "outputs": [],
   "source": [
    "from sklearn.metrics import confusion_matrix\n",
    "conf_matrix = confusion_matrix(y_test_old, y_pred)\n"
   ]
  },
  {
   "cell_type": "code",
   "execution_count": 712,
   "metadata": {},
   "outputs": [
    {
     "data": {
      "image/png": "[encoded data removed]",
      "text/plain": [
       "<Figure size 640x480 with 1 Axes>"
      ]
     },
     "metadata": {},
     "output_type": "display_data"
    }
   ],
   "source": [
    "sns.heatmap(conf_matrix, annot=True, fmt='d', cmap='Greys', cbar=False)\n",
    "plt.title('Confusion Matrix for XGBoostClassifier')\n",
    "plt.xlabel('Predicted Label')\n",
    "plt.ylabel('True Label')\n",
    "plt.show()\n"
   ]
  },
  {
   "cell_type": "code",
   "execution_count": 713,
   "metadata": {},
   "outputs": [
    {
     "name": "stdout",
     "output_type": "stream",
     "text": [
      "\n",
      "Classification Report for XGBoostClassifier:\n",
      "              precision    recall  f1-score   support\n",
      "\n",
      "           0       0.61      0.56      0.58      2355\n",
      "           1       0.58      0.63      0.61      2316\n",
      "\n",
      "    accuracy                           0.60      4671\n",
      "   macro avg       0.60      0.60      0.59      4671\n",
      "weighted avg       0.60      0.60      0.59      4671\n",
      "\n"
     ]
    }
   ],
   "source": [
    "from sklearn.metrics import classification_report\n",
    "\n",
    "classification_rep = classification_report(y_test_old, y_pred)\n",
    "print('\\nClassification Report for XGBoostClassifier:')\n",
    "print(classification_rep)\n"
   ]
  },
  {
   "cell_type": "markdown",
   "metadata": {},
   "source": [
    "##### Teste"
   ]
  },
  {
   "cell_type": "code",
   "execution_count": 714,
   "metadata": {},
   "outputs": [
    {
     "data": {
      "text/plain": [
       "(5000, 40)"
      ]
     },
     "execution_count": 714,
     "metadata": {},
     "output_type": "execute_result"
    }
   ],
   "source": [
    "usingTestData.shape"
   ]
  },
  {
   "cell_type": "code",
   "execution_count": 715,
   "metadata": {},
   "outputs": [],
   "source": [
    "# test data\n",
    "X_test2 = usingTestData[selected_columns]\n",
    "\n",
    "# Scale the test data\n",
    "X_test_scaled = scaler.transform(X_test2)\n",
    "\n",
    "# Predict using the trained model\n",
    "y_test_pred = bestXgbModel.predict(X_test_scaled)\n",
    "\n",
    "# Add predictions to the test dataframe with the original 'id_solicitante' column\n",
    "df_test['inadimplente_pred'] = y_test_pred\n",
    "df_test['id_solicitante'] = testIDs\n",
    "\n",
    "# Create a new dataframe with 'id_solicitante' and 'inadimplente_pred'\n",
    "df_predictions = df_test[['id_solicitante', 'inadimplente_pred']]\n",
    "\n",
    "# Rename the columns to match the required header\n",
    "df_predictions.columns = ['id_solicitante', 'inadimplente']\n",
    "\n",
    "# Save the predictions to a CSV file\n",
    "df_predictions.to_csv('predictionsv2.csv', index=False)\n"
   ]
  },
  {
   "cell_type": "code",
   "execution_count": 716,
   "metadata": {
    "vscode": {
     "languageId": "ruby"
    }
   },
   "outputs": [],
   "source": [
    "##### Select Columns\n",
    "selected_columns =['produto_solicitado', 'dia_vencimento', 'forma_envio_solicitacao',\n",
    "       'tipo_endereco', 'sexo', 'idade', 'estado_civil', 'qtde_dependentes',\n",
    "       'nacionalidade', 'estado_onde_nasceu', 'estado_onde_reside',\n",
    "       'possui_telefone_residencial', 'codigo_area_telefone_residencial',\n",
    "       'tipo_residencia', 'meses_na_residencia', 'possui_email',\n",
    "       'renda_mensal_regular', 'renda_extra', 'possui_cartao_visa',\n",
    "       'possui_cartao_mastercard', 'possui_outros_cartoes', 'possui_carro',\n",
    "       'vinculo_formal_com_empresa', 'estado_onde_trabalha',\n",
    "       'possui_telefone_trabalho', 'codigo_area_telefone_trabalho',\n",
    "       'profissao', 'ocupacao', 'local_onde_reside']\n",
    "X_train = X_train[selected_columns]\n",
    "X_test_old = X_test_old[selected_columns]\n",
    "# y_train = y_train\n",
    "# y_test_old = y_test_old\n"
   ]
  },
  {
   "cell_type": "code",
   "execution_count": 717,
   "metadata": {
    "vscode": {
     "languageId": "ruby"
    }
   },
   "outputs": [
    {
     "name": "stdout",
     "output_type": "stream",
     "text": [
      "Normalized input data(X):\n",
      " [[ 5.63391906  0.28469581  0.98177083 ...  0.31206307 -0.33664903\n",
      "   0.72253853]\n",
      " [-0.28004067  0.28469581 -0.72260335 ...  0.31206307  1.63211544\n",
      "  -1.03528125]\n",
      " [-0.28004067 -0.45543451 -0.72260335 ...  0.31206307 -0.33664903\n",
      "   1.53898781]\n",
      " ...\n",
      " [-0.28004067 -0.45543451 -0.72260335 ...  0.31206307 -0.99290385\n",
      "  -0.08944929]\n",
      " [-0.28004067  0.28469581  0.98177083 ...  0.31206307  1.63211544\n",
      "  -0.59805704]\n",
      " [-0.28004067  0.28469581 -0.72260335 ... -1.84525602  0.97586062\n",
      "   0.44592729]]\n"
     ]
    }
   ],
   "source": [
    "scaler = StandardScaler()\n",
    "\n",
    "X_train_scaled= scaler.fit_transform(X_train)\n",
    "X_test_scaled = scaler.transform(X_test_old)\n",
    "X_blc, y_blc = X_train_scaled, y_train\n",
    "\n",
    "print(\"Normalized input data(X):\\n\", X_train_scaled)\n"
   ]
  },
  {
   "cell_type": "code",
   "execution_count": 718,
   "metadata": {
    "vscode": {
     "languageId": "ruby"
    }
   },
   "outputs": [
    {
     "data": {
      "text/plain": [
       "((10897, 29), (10897,))"
      ]
     },
     "execution_count": 718,
     "metadata": {},
     "output_type": "execute_result"
    }
   ],
   "source": [
    "X_blc.shape, y_blc.shape"
   ]
  },
  {
   "cell_type": "code",
   "execution_count": 719,
   "metadata": {
    "vscode": {
     "languageId": "ruby"
    }
   },
   "outputs": [
    {
     "data": {
      "text/plain": [
       "(4671,)"
      ]
     },
     "execution_count": 719,
     "metadata": {},
     "output_type": "execute_result"
    }
   ],
   "source": [
    "y_test_old.shape"
   ]
  },
  {
   "cell_type": "code",
   "execution_count": 720,
   "metadata": {},
   "outputs": [
    {
     "data": {
      "image/png": "[encoded data removed]",
      "text/plain": [
       "<Figure size 640x480 with 1 Axes>"
      ]
     },
     "metadata": {},
     "output_type": "display_data"
    },
    {
     "name": "stdout",
     "output_type": "stream",
     "text": [
      "\n",
      "Classification Report for KNeighborsClassifier:\n",
      "              precision    recall  f1-score   support\n",
      "\n",
      "           0       0.56      0.61      0.58      2355\n",
      "           1       0.56      0.50      0.53      2316\n",
      "\n",
      "    accuracy                           0.56      4671\n",
      "   macro avg       0.56      0.56      0.56      4671\n",
      "weighted avg       0.56      0.56      0.56      4671\n",
      "\n"
     ]
    }
   ],
   "source": [
    "from sklearn.neighbors import KNeighborsClassifier\n",
    "from sklearn.metrics import classification_report, confusion_matrix\n",
    "\n",
    "# Definir o modelo KNN\n",
    "knn = KNeighborsClassifier(n_neighbors=200)\n",
    "\n",
    "# Treinar o modelo\n",
    "knn.fit(X_blc, y_blc)\n",
    "\n",
    "# Fazer previsões\n",
    "y_pred_knn = knn.predict(X_test_scaled)\n",
    "\n",
    "# Avaliar o modelo\n",
    "conf_matrix_knn = confusion_matrix(y_test_old, y_pred_knn)\n",
    "classification_rep_knn = classification_report(y_test_old, y_pred_knn)\n",
    "\n",
    "# Exibir a matriz de confusão\n",
    "sns.heatmap(conf_matrix_knn, annot=True, fmt='d', cmap='Greys', cbar=False)\n",
    "plt.title('Confusion Matrix for KNeighborsClassifier')\n",
    "plt.xlabel('Predicted Label')\n",
    "plt.ylabel('True Label')\n",
    "plt.show()\n",
    "\n",
    "# Exibir o relatório de classificação\n",
    "print('\\nClassification Report for KNeighborsClassifier:')\n",
    "print(classification_rep_knn)"
   ]
  },
  {
   "cell_type": "code",
   "execution_count": 721,
   "metadata": {},
   "outputs": [
    {
     "data": {
      "text/plain": [
       "(5000, 40)"
      ]
     },
     "execution_count": 721,
     "metadata": {},
     "output_type": "execute_result"
    }
   ],
   "source": [
    "usingTestData.shape"
   ]
  },
  {
   "cell_type": "code",
   "execution_count": 722,
   "metadata": {},
   "outputs": [],
   "source": [
    "# test data\n",
    "X_test2 = usingTestData[selected_columns]\n",
    "\n",
    "# Scale the test data\n",
    "X_test_scaled = scaler.transform(X_test2)\n",
    "\n",
    "# Predict using the trained model\n",
    "y_test_pred = knn.predict(X_test_scaled)\n",
    "\n",
    "# Add predictions to the test dataframe with the original 'id_solicitante' column\n",
    "df_test['inadimplente_pred'] = y_test_pred\n",
    "df_test['id_solicitante'] = testIDs\n",
    "\n",
    "# Create a new dataframe with 'id_solicitante' and 'inadimplente_pred'\n",
    "df_predictions = df_test[['id_solicitante', 'inadimplente_pred']]\n",
    "\n",
    "# Rename the columns to match the required header\n",
    "df_predictions.columns = ['id_solicitante', 'inadimplente']\n",
    "\n",
    "# Save the predictions to a CSV file\n",
    "df_predictions.to_csv('predictionsv3.csv', index=False)\n"
   ]
  },
  {
   "cell_type": "markdown",
   "metadata": {},
   "source": [
    "### RFE"
   ]
  },
  {
   "cell_type": "code",
   "execution_count": 88,
   "metadata": {},
   "outputs": [],
   "source": [
    "# from sklearn.feature_selection import RFE\n",
    "# for n_features_to_select1 in range(1,35):\n",
    "#     # Inicializar o modelo RFE com o bestXgbModel\n",
    "#     rfe = RFE(estimator=bestXgbModel, n_features_to_select=n_features_to_select1)  # Ajuste o número de atributos desejado\n",
    "\n",
    "#     # Ajustar o RFE ao conjunto de dados de treino\n",
    "#     rfe.fit(X_train_scaled, y_train)\n",
    "\n",
    "#     # Obter os atributos selecionados\n",
    "#     selected_features = X_train.columns[rfe.support_]\n",
    "#     print(\"Selected Features:\", selected_features)\n",
    "\n",
    "#     # Transformar os conjuntos de dados de treino e teste para incluir apenas os atributos selecionados\n",
    "#     X_train_rfe = rfe.transform(X_train_scaled)\n",
    "#     X_test_rfe = rfe.transform(X_test_scaled)\n",
    "\n",
    "#     # Treinar o modelo com os atributos selecionados\n",
    "#     bestXgbModel.fit(X_train_rfe, y_train)\n",
    "\n",
    "#     # Fazer previsões no conjunto de teste\n",
    "#     y_pred_rfe = bestXgbModel.predict(X_test_rfe)\n",
    "\n",
    "#     # Avaliar o modelo\n",
    "#     conf_matrix_rfe = confusion_matrix(y_test_old, y_pred_rfe)\n",
    "#     classification_rep_rfe = classification_report(y_test_old, y_pred_rfe)\n",
    "\n",
    "#     print('\\nConfusion Matrix for XGBoostClassifier with RFE:')\n",
    "#     print(conf_matrix_rfe)\n",
    "#     print('\\nClassification Report for XGBoostClassifier with RFE:')\n",
    "#     print(classification_rep_rfe)"
   ]
  }
 ],
 "metadata": {
  "kernelspec": {
   "display_name": "myenv",
   "language": "python",
   "name": "python3"
  },
  "language_info": {
   "codemirror_mode": {
    "name": "ipython",
    "version": 3
   },
   "file_extension": ".py",
   "mimetype": "text/x-python",
   "name": "python",
   "nbconvert_exporter": "python",
   "pygments_lexer": "ipython3",
   "version": "3.12.2"
  }
 },
 "nbformat": 4,
 "nbformat_minor": 2
}
